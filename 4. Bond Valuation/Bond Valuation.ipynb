{
 "cells": [
  {
   "cell_type": "markdown",
   "metadata": {},
   "source": [
    "# Bond Valuation"
   ]
  },
  {
   "cell_type": "code",
   "execution_count": 83,
   "metadata": {},
   "outputs": [],
   "source": [
    "#Importing Libraries\n",
    "import pandas as pd\n",
    "import numpy as np\n",
    "import matplotlib.pyplot as plt"
   ]
  },
  {
   "cell_type": "code",
   "execution_count": 84,
   "metadata": {},
   "outputs": [],
   "source": [
    "#Fixing Values\n",
    "FV = 100\n",
    "Cpn_Rate = 0.0737\n",
    "N=7\n",
    "NoDaysTillNextCpn = 78\n",
    "f=2\n",
    "w=(NoDaysTillNextCpn/(365/f))\n",
    "tol = 0.0001"
   ]
  },
  {
   "cell_type": "code",
   "execution_count": 85,
   "metadata": {},
   "outputs": [
    {
     "data": {
      "text/html": [
       "<div>\n",
       "<style scoped>\n",
       "    .dataframe tbody tr th:only-of-type {\n",
       "        vertical-align: middle;\n",
       "    }\n",
       "\n",
       "    .dataframe tbody tr th {\n",
       "        vertical-align: top;\n",
       "    }\n",
       "\n",
       "    .dataframe thead th {\n",
       "        text-align: right;\n",
       "    }\n",
       "</style>\n",
       "<table border=\"1\" class=\"dataframe\">\n",
       "  <thead>\n",
       "    <tr style=\"text-align: right;\">\n",
       "      <th></th>\n",
       "      <th>Maturity (Yrs)</th>\n",
       "      <th>Rate</th>\n",
       "    </tr>\n",
       "  </thead>\n",
       "  <tbody>\n",
       "    <tr>\n",
       "      <th>0</th>\n",
       "      <td>0.0</td>\n",
       "      <td>4.949998</td>\n",
       "    </tr>\n",
       "    <tr>\n",
       "      <th>1</th>\n",
       "      <td>0.5</td>\n",
       "      <td>5.114065</td>\n",
       "    </tr>\n",
       "    <tr>\n",
       "      <th>2</th>\n",
       "      <td>1.0</td>\n",
       "      <td>5.299967</td>\n",
       "    </tr>\n",
       "    <tr>\n",
       "      <th>3</th>\n",
       "      <td>1.5</td>\n",
       "      <td>5.488296</td>\n",
       "    </tr>\n",
       "    <tr>\n",
       "      <th>4</th>\n",
       "      <td>2.0</td>\n",
       "      <td>5.668268</td>\n",
       "    </tr>\n",
       "  </tbody>\n",
       "</table>\n",
       "</div>"
      ],
      "text/plain": [
       "   Maturity (Yrs)      Rate\n",
       "0             0.0  4.949998\n",
       "1             0.5  5.114065\n",
       "2             1.0  5.299967\n",
       "3             1.5  5.488296\n",
       "4             2.0  5.668268"
      ]
     },
     "execution_count": 85,
     "metadata": {},
     "output_type": "execute_result"
    }
   ],
   "source": [
    "#Reading Interest Rate Sheet\n",
    "ir = pd.read_excel(\"Rates.xlsx\")\n",
    "ir.head()"
   ]
  },
  {
   "cell_type": "code",
   "execution_count": 86,
   "metadata": {},
   "outputs": [],
   "source": [
    "#Current value of bond\n",
    "i=1\n",
    "val = 0\n",
    "while(i<=N):\n",
    "    rr = (ir.iloc[i-1,1] + w*(ir.iloc[i,1]-ir.iloc[i-1,1]))/100\n",
    "    val = val + (Cpn_Rate*FV)/f/((1+rr/f)**(i-1+w))\n",
    "    i=i+1\n",
    "val = val + FV/((1+rr/f)**(N-1+w))\n",
    "    "
   ]
  },
  {
   "cell_type": "code",
   "execution_count": 87,
   "metadata": {},
   "outputs": [
    {
     "data": {
      "text/plain": [
       "106.04354935744877"
      ]
     },
     "execution_count": 87,
     "metadata": {},
     "output_type": "execute_result"
    }
   ],
   "source": [
    "val"
   ]
  },
  {
   "cell_type": "code",
   "execution_count": 88,
   "metadata": {},
   "outputs": [
    {
     "data": {
      "text/plain": [
       "2.110041095890411"
      ]
     },
     "execution_count": 88,
     "metadata": {},
     "output_type": "execute_result"
    }
   ],
   "source": [
    "accrued_int = (1-w)*Cpn_Rate*FV/f\n",
    "accrued_int"
   ]
  },
  {
   "cell_type": "code",
   "execution_count": 89,
   "metadata": {},
   "outputs": [
    {
     "data": {
      "text/plain": [
       "103.93350826155836"
      ]
     },
     "execution_count": 89,
     "metadata": {},
     "output_type": "execute_result"
    }
   ],
   "source": [
    "quoted_price = val - accrued_int\n",
    "quoted_price"
   ]
  },
  {
   "cell_type": "code",
   "execution_count": 90,
   "metadata": {},
   "outputs": [
    {
     "data": {
      "text/plain": [
       "0.054769043159078074"
      ]
     },
     "execution_count": 90,
     "metadata": {},
     "output_type": "execute_result"
    }
   ],
   "source": [
    "#Finding YTM\n",
    "y = ir.iloc[:N,1].mean()  #Initialising y\n",
    "y = y/100\n",
    "y "
   ]
  },
  {
   "cell_type": "code",
   "execution_count": 91,
   "metadata": {},
   "outputs": [
    {
     "name": "stdout",
     "output_type": "stream",
     "text": [
      "0.7576899940923056\n",
      "3.2207310927572594\n",
      "7.297674084969229\n",
      "12.900733246934884\n",
      "19.945656016234878\n",
      "28.351597010743298\n",
      "38.04099625330058\n",
      "0.7549630879548087\n",
      "3.2029485804096622\n",
      "7.244748721046932\n",
      "12.785496982360735\n",
      "19.734499386979255\n",
      "28.005071970742666\n",
      "37.51438417290042\n",
      "0.7549381052176172\n",
      "3.202785840536472\n",
      "7.244264838030536\n",
      "12.784444415028709\n",
      "19.732572513808574\n",
      "28.001912801703973\n",
      "37.50958771617165\n"
     ]
    }
   ],
   "source": [
    "while(True):\n",
    "    v1 = 0\n",
    "    v2 = 0\n",
    "    i=1\n",
    "    while(i<=N):\n",
    "        v = (Cpn_Rate*FV)/f/((1+y/f)**(i-1+w))\n",
    "        v1 = v1 + v\n",
    "        v2 = v2 + v*((i-1+w)/f)/(1+y/f)\n",
    "        print(v2)\n",
    "        i=i+1\n",
    "    v1 = v1 + FV/((1+y/f)**(N-1+w))\n",
    "    v2 = v2 + FV*((N-1+w)/f)/((1+y/f)**(N+w))\n",
    "    \n",
    "    if(abs(val - v1) < tol):   #Setting tolerance level\n",
    "        break\n",
    "    else:\n",
    "        y = y - (val-v1)/v2"
   ]
  },
  {
   "cell_type": "code",
   "execution_count": 92,
   "metadata": {},
   "outputs": [
    {
     "data": {
      "text/plain": [
       "0.06001350588523069"
      ]
     },
     "execution_count": 92,
     "metadata": {},
     "output_type": "execute_result"
    }
   ],
   "source": [
    "y"
   ]
  },
  {
   "cell_type": "code",
   "execution_count": null,
   "metadata": {},
   "outputs": [],
   "source": []
  }
 ],
 "metadata": {
  "kernelspec": {
   "display_name": "Python 3",
   "language": "python",
   "name": "python3"
  },
  "language_info": {
   "codemirror_mode": {
    "name": "ipython",
    "version": 3
   },
   "file_extension": ".py",
   "mimetype": "text/x-python",
   "name": "python",
   "nbconvert_exporter": "python",
   "pygments_lexer": "ipython3",
   "version": "3.6.5"
  }
 },
 "nbformat": 4,
 "nbformat_minor": 2
}
