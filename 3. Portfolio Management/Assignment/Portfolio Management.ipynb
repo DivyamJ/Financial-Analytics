{
 "cells": [
  {
   "cell_type": "markdown",
   "metadata": {},
   "source": [
    "# Mutual Fund Creation"
   ]
  },
  {
   "cell_type": "code",
   "execution_count": 1,
   "metadata": {},
   "outputs": [],
   "source": [
    "#Importing Libraries\n",
    "import pandas as pd\n",
    "import numpy as np\n",
    "import matplotlib.pyplot as plt"
   ]
  },
  {
   "cell_type": "code",
   "execution_count": 2,
   "metadata": {},
   "outputs": [
    {
     "data": {
      "text/html": [
       "<div>\n",
       "<style scoped>\n",
       "    .dataframe tbody tr th:only-of-type {\n",
       "        vertical-align: middle;\n",
       "    }\n",
       "\n",
       "    .dataframe tbody tr th {\n",
       "        vertical-align: top;\n",
       "    }\n",
       "\n",
       "    .dataframe thead th {\n",
       "        text-align: right;\n",
       "    }\n",
       "</style>\n",
       "<table border=\"1\" class=\"dataframe\">\n",
       "  <thead>\n",
       "    <tr style=\"text-align: right;\">\n",
       "      <th></th>\n",
       "      <th>Date</th>\n",
       "      <th>HDFC Bank</th>\n",
       "      <th>Kotak Mahindra Bank</th>\n",
       "      <th>ICICI Bank</th>\n",
       "      <th>Bajaj Finance</th>\n",
       "      <th>Reliance</th>\n",
       "      <th>Avenue Supermarts</th>\n",
       "      <th>Housing Development Finance Corporation</th>\n",
       "      <th>Infosys</th>\n",
       "      <th>Asian Paints</th>\n",
       "      <th>...</th>\n",
       "      <th>Bandhan Bank</th>\n",
       "      <th>Bharti Airtel</th>\n",
       "      <th>Titan</th>\n",
       "      <th>Tech Mahindra</th>\n",
       "      <th>Larsen Toubro</th>\n",
       "      <th>Ultratech Cement</th>\n",
       "      <th>Divis Laboratories</th>\n",
       "      <th>Pidilite Industries</th>\n",
       "      <th>Astral Polytech</th>\n",
       "      <th>Eicher Motors</th>\n",
       "    </tr>\n",
       "  </thead>\n",
       "  <tbody>\n",
       "    <tr>\n",
       "      <th>0</th>\n",
       "      <td>2019-12-31</td>\n",
       "      <td>-0.007066</td>\n",
       "      <td>-0.002192</td>\n",
       "      <td>-0.009560</td>\n",
       "      <td>-0.000649</td>\n",
       "      <td>-0.019492</td>\n",
       "      <td>-0.023818</td>\n",
       "      <td>-0.009867</td>\n",
       "      <td>-0.001433</td>\n",
       "      <td>-0.008627</td>\n",
       "      <td>...</td>\n",
       "      <td>0.007536</td>\n",
       "      <td>-0.010206</td>\n",
       "      <td>-0.005693</td>\n",
       "      <td>-0.025120</td>\n",
       "      <td>-0.002343</td>\n",
       "      <td>-0.001357</td>\n",
       "      <td>-0.001352</td>\n",
       "      <td>-0.014004</td>\n",
       "      <td>0.006675</td>\n",
       "      <td>-0.011330</td>\n",
       "    </tr>\n",
       "    <tr>\n",
       "      <th>1</th>\n",
       "      <td>2019-12-30</td>\n",
       "      <td>0.004667</td>\n",
       "      <td>0.001869</td>\n",
       "      <td>-0.009920</td>\n",
       "      <td>-0.003492</td>\n",
       "      <td>0.001329</td>\n",
       "      <td>-0.021360</td>\n",
       "      <td>-0.002864</td>\n",
       "      <td>-0.005429</td>\n",
       "      <td>-0.005819</td>\n",
       "      <td>...</td>\n",
       "      <td>-0.005424</td>\n",
       "      <td>0.011421</td>\n",
       "      <td>0.002728</td>\n",
       "      <td>0.002178</td>\n",
       "      <td>0.001808</td>\n",
       "      <td>-0.001085</td>\n",
       "      <td>0.010937</td>\n",
       "      <td>0.006223</td>\n",
       "      <td>0.007544</td>\n",
       "      <td>0.023918</td>\n",
       "    </tr>\n",
       "    <tr>\n",
       "      <th>2</th>\n",
       "      <td>2019-12-27</td>\n",
       "      <td>0.002635</td>\n",
       "      <td>-0.005313</td>\n",
       "      <td>0.019295</td>\n",
       "      <td>0.015170</td>\n",
       "      <td>0.017283</td>\n",
       "      <td>0.002057</td>\n",
       "      <td>0.012509</td>\n",
       "      <td>0.010353</td>\n",
       "      <td>0.001574</td>\n",
       "      <td>...</td>\n",
       "      <td>0.012178</td>\n",
       "      <td>0.018227</td>\n",
       "      <td>-0.001174</td>\n",
       "      <td>0.012649</td>\n",
       "      <td>0.015947</td>\n",
       "      <td>-0.001071</td>\n",
       "      <td>0.005250</td>\n",
       "      <td>0.006334</td>\n",
       "      <td>0.008083</td>\n",
       "      <td>0.008391</td>\n",
       "    </tr>\n",
       "    <tr>\n",
       "      <th>3</th>\n",
       "      <td>2019-12-26</td>\n",
       "      <td>-0.013767</td>\n",
       "      <td>-0.010311</td>\n",
       "      <td>-0.003789</td>\n",
       "      <td>0.012275</td>\n",
       "      <td>-0.019406</td>\n",
       "      <td>0.007265</td>\n",
       "      <td>0.001286</td>\n",
       "      <td>-0.005455</td>\n",
       "      <td>0.003715</td>\n",
       "      <td>...</td>\n",
       "      <td>0.005520</td>\n",
       "      <td>-0.022302</td>\n",
       "      <td>-0.009510</td>\n",
       "      <td>-0.002330</td>\n",
       "      <td>-0.017209</td>\n",
       "      <td>-0.008908</td>\n",
       "      <td>0.000770</td>\n",
       "      <td>0.009263</td>\n",
       "      <td>0.009565</td>\n",
       "      <td>0.007718</td>\n",
       "    </tr>\n",
       "    <tr>\n",
       "      <th>4</th>\n",
       "      <td>2019-12-24</td>\n",
       "      <td>-0.009982</td>\n",
       "      <td>0.003930</td>\n",
       "      <td>-0.000739</td>\n",
       "      <td>-0.004941</td>\n",
       "      <td>-0.015945</td>\n",
       "      <td>-0.008065</td>\n",
       "      <td>-0.004603</td>\n",
       "      <td>-0.003533</td>\n",
       "      <td>-0.002241</td>\n",
       "      <td>...</td>\n",
       "      <td>-0.011313</td>\n",
       "      <td>0.005939</td>\n",
       "      <td>-0.003641</td>\n",
       "      <td>-0.004189</td>\n",
       "      <td>-0.007321</td>\n",
       "      <td>0.003428</td>\n",
       "      <td>0.006033</td>\n",
       "      <td>-0.000617</td>\n",
       "      <td>0.002551</td>\n",
       "      <td>-0.012958</td>\n",
       "    </tr>\n",
       "  </tbody>\n",
       "</table>\n",
       "<p>5 rows × 25 columns</p>\n",
       "</div>"
      ],
      "text/plain": [
       "        Date  HDFC Bank  Kotak Mahindra Bank  ICICI Bank  Bajaj Finance  \\\n",
       "0 2019-12-31  -0.007066            -0.002192   -0.009560      -0.000649   \n",
       "1 2019-12-30   0.004667             0.001869   -0.009920      -0.003492   \n",
       "2 2019-12-27   0.002635            -0.005313    0.019295       0.015170   \n",
       "3 2019-12-26  -0.013767            -0.010311   -0.003789       0.012275   \n",
       "4 2019-12-24  -0.009982             0.003930   -0.000739      -0.004941   \n",
       "\n",
       "   Reliance  Avenue Supermarts  Housing Development Finance Corporation  \\\n",
       "0 -0.019492          -0.023818                                -0.009867   \n",
       "1  0.001329          -0.021360                                -0.002864   \n",
       "2  0.017283           0.002057                                 0.012509   \n",
       "3 -0.019406           0.007265                                 0.001286   \n",
       "4 -0.015945          -0.008065                                -0.004603   \n",
       "\n",
       "    Infosys  Asian Paints      ...        Bandhan Bank  Bharti Airtel  \\\n",
       "0 -0.001433     -0.008627      ...            0.007536      -0.010206   \n",
       "1 -0.005429     -0.005819      ...           -0.005424       0.011421   \n",
       "2  0.010353      0.001574      ...            0.012178       0.018227   \n",
       "3 -0.005455      0.003715      ...            0.005520      -0.022302   \n",
       "4 -0.003533     -0.002241      ...           -0.011313       0.005939   \n",
       "\n",
       "      Titan  Tech Mahindra  Larsen Toubro  Ultratech Cement  \\\n",
       "0 -0.005693      -0.025120      -0.002343         -0.001357   \n",
       "1  0.002728       0.002178       0.001808         -0.001085   \n",
       "2 -0.001174       0.012649       0.015947         -0.001071   \n",
       "3 -0.009510      -0.002330      -0.017209         -0.008908   \n",
       "4 -0.003641      -0.004189      -0.007321          0.003428   \n",
       "\n",
       "   Divis Laboratories  Pidilite Industries  Astral Polytech  Eicher Motors  \n",
       "0           -0.001352            -0.014004         0.006675      -0.011330  \n",
       "1            0.010937             0.006223         0.007544       0.023918  \n",
       "2            0.005250             0.006334         0.008083       0.008391  \n",
       "3            0.000770             0.009263         0.009565       0.007718  \n",
       "4            0.006033            -0.000617         0.002551      -0.012958  \n",
       "\n",
       "[5 rows x 25 columns]"
      ]
     },
     "execution_count": 2,
     "metadata": {},
     "output_type": "execute_result"
    }
   ],
   "source": [
    "#Importing the dataset\n",
    "stocks = pd.read_excel(\"Stock Data.xlsx\", sheet_name=\"Returns\")\n",
    "stocks.head()"
   ]
  },
  {
   "cell_type": "code",
   "execution_count": 3,
   "metadata": {},
   "outputs": [
    {
     "data": {
      "text/html": [
       "<div>\n",
       "<style scoped>\n",
       "    .dataframe tbody tr th:only-of-type {\n",
       "        vertical-align: middle;\n",
       "    }\n",
       "\n",
       "    .dataframe tbody tr th {\n",
       "        vertical-align: top;\n",
       "    }\n",
       "\n",
       "    .dataframe thead th {\n",
       "        text-align: right;\n",
       "    }\n",
       "</style>\n",
       "<table border=\"1\" class=\"dataframe\">\n",
       "  <thead>\n",
       "    <tr style=\"text-align: right;\">\n",
       "      <th></th>\n",
       "      <th>HDFC Bank</th>\n",
       "      <th>Kotak Mahindra Bank</th>\n",
       "      <th>ICICI Bank</th>\n",
       "      <th>Bajaj Finance</th>\n",
       "      <th>Reliance</th>\n",
       "      <th>Avenue Supermarts</th>\n",
       "      <th>Housing Development Finance Corporation</th>\n",
       "      <th>Infosys</th>\n",
       "      <th>Asian Paints</th>\n",
       "      <th>Bajaj Finserv</th>\n",
       "      <th>...</th>\n",
       "      <th>Bandhan Bank</th>\n",
       "      <th>Bharti Airtel</th>\n",
       "      <th>Titan</th>\n",
       "      <th>Tech Mahindra</th>\n",
       "      <th>Larsen Toubro</th>\n",
       "      <th>Ultratech Cement</th>\n",
       "      <th>Divis Laboratories</th>\n",
       "      <th>Pidilite Industries</th>\n",
       "      <th>Astral Polytech</th>\n",
       "      <th>Eicher Motors</th>\n",
       "    </tr>\n",
       "  </thead>\n",
       "  <tbody>\n",
       "    <tr>\n",
       "      <th>0</th>\n",
       "      <td>-0.007066</td>\n",
       "      <td>-0.002192</td>\n",
       "      <td>-0.009560</td>\n",
       "      <td>-0.000649</td>\n",
       "      <td>-0.019492</td>\n",
       "      <td>-0.023818</td>\n",
       "      <td>-0.009867</td>\n",
       "      <td>-0.001433</td>\n",
       "      <td>-0.008627</td>\n",
       "      <td>-0.004754</td>\n",
       "      <td>...</td>\n",
       "      <td>0.007536</td>\n",
       "      <td>-0.010206</td>\n",
       "      <td>-0.005693</td>\n",
       "      <td>-0.025120</td>\n",
       "      <td>-0.002343</td>\n",
       "      <td>-0.001357</td>\n",
       "      <td>-0.001352</td>\n",
       "      <td>-0.014004</td>\n",
       "      <td>0.006675</td>\n",
       "      <td>-0.011330</td>\n",
       "    </tr>\n",
       "    <tr>\n",
       "      <th>1</th>\n",
       "      <td>0.004667</td>\n",
       "      <td>0.001869</td>\n",
       "      <td>-0.009920</td>\n",
       "      <td>-0.003492</td>\n",
       "      <td>0.001329</td>\n",
       "      <td>-0.021360</td>\n",
       "      <td>-0.002864</td>\n",
       "      <td>-0.005429</td>\n",
       "      <td>-0.005819</td>\n",
       "      <td>-0.001366</td>\n",
       "      <td>...</td>\n",
       "      <td>-0.005424</td>\n",
       "      <td>0.011421</td>\n",
       "      <td>0.002728</td>\n",
       "      <td>0.002178</td>\n",
       "      <td>0.001808</td>\n",
       "      <td>-0.001085</td>\n",
       "      <td>0.010937</td>\n",
       "      <td>0.006223</td>\n",
       "      <td>0.007544</td>\n",
       "      <td>0.023918</td>\n",
       "    </tr>\n",
       "    <tr>\n",
       "      <th>2</th>\n",
       "      <td>0.002635</td>\n",
       "      <td>-0.005313</td>\n",
       "      <td>0.019295</td>\n",
       "      <td>0.015170</td>\n",
       "      <td>0.017283</td>\n",
       "      <td>0.002057</td>\n",
       "      <td>0.012509</td>\n",
       "      <td>0.010353</td>\n",
       "      <td>0.001574</td>\n",
       "      <td>0.010137</td>\n",
       "      <td>...</td>\n",
       "      <td>0.012178</td>\n",
       "      <td>0.018227</td>\n",
       "      <td>-0.001174</td>\n",
       "      <td>0.012649</td>\n",
       "      <td>0.015947</td>\n",
       "      <td>-0.001071</td>\n",
       "      <td>0.005250</td>\n",
       "      <td>0.006334</td>\n",
       "      <td>0.008083</td>\n",
       "      <td>0.008391</td>\n",
       "    </tr>\n",
       "    <tr>\n",
       "      <th>3</th>\n",
       "      <td>-0.013767</td>\n",
       "      <td>-0.010311</td>\n",
       "      <td>-0.003789</td>\n",
       "      <td>0.012275</td>\n",
       "      <td>-0.019406</td>\n",
       "      <td>0.007265</td>\n",
       "      <td>0.001286</td>\n",
       "      <td>-0.005455</td>\n",
       "      <td>0.003715</td>\n",
       "      <td>0.005851</td>\n",
       "      <td>...</td>\n",
       "      <td>0.005520</td>\n",
       "      <td>-0.022302</td>\n",
       "      <td>-0.009510</td>\n",
       "      <td>-0.002330</td>\n",
       "      <td>-0.017209</td>\n",
       "      <td>-0.008908</td>\n",
       "      <td>0.000770</td>\n",
       "      <td>0.009263</td>\n",
       "      <td>0.009565</td>\n",
       "      <td>0.007718</td>\n",
       "    </tr>\n",
       "    <tr>\n",
       "      <th>4</th>\n",
       "      <td>-0.009982</td>\n",
       "      <td>0.003930</td>\n",
       "      <td>-0.000739</td>\n",
       "      <td>-0.004941</td>\n",
       "      <td>-0.015945</td>\n",
       "      <td>-0.008065</td>\n",
       "      <td>-0.004603</td>\n",
       "      <td>-0.003533</td>\n",
       "      <td>-0.002241</td>\n",
       "      <td>0.000091</td>\n",
       "      <td>...</td>\n",
       "      <td>-0.011313</td>\n",
       "      <td>0.005939</td>\n",
       "      <td>-0.003641</td>\n",
       "      <td>-0.004189</td>\n",
       "      <td>-0.007321</td>\n",
       "      <td>0.003428</td>\n",
       "      <td>0.006033</td>\n",
       "      <td>-0.000617</td>\n",
       "      <td>0.002551</td>\n",
       "      <td>-0.012958</td>\n",
       "    </tr>\n",
       "  </tbody>\n",
       "</table>\n",
       "<p>5 rows × 24 columns</p>\n",
       "</div>"
      ],
      "text/plain": [
       "   HDFC Bank  Kotak Mahindra Bank  ICICI Bank  Bajaj Finance  Reliance  \\\n",
       "0  -0.007066            -0.002192   -0.009560      -0.000649 -0.019492   \n",
       "1   0.004667             0.001869   -0.009920      -0.003492  0.001329   \n",
       "2   0.002635            -0.005313    0.019295       0.015170  0.017283   \n",
       "3  -0.013767            -0.010311   -0.003789       0.012275 -0.019406   \n",
       "4  -0.009982             0.003930   -0.000739      -0.004941 -0.015945   \n",
       "\n",
       "   Avenue Supermarts  Housing Development Finance Corporation   Infosys  \\\n",
       "0          -0.023818                                -0.009867 -0.001433   \n",
       "1          -0.021360                                -0.002864 -0.005429   \n",
       "2           0.002057                                 0.012509  0.010353   \n",
       "3           0.007265                                 0.001286 -0.005455   \n",
       "4          -0.008065                                -0.004603 -0.003533   \n",
       "\n",
       "   Asian Paints  Bajaj Finserv      ...        Bandhan Bank  Bharti Airtel  \\\n",
       "0     -0.008627      -0.004754      ...            0.007536      -0.010206   \n",
       "1     -0.005819      -0.001366      ...           -0.005424       0.011421   \n",
       "2      0.001574       0.010137      ...            0.012178       0.018227   \n",
       "3      0.003715       0.005851      ...            0.005520      -0.022302   \n",
       "4     -0.002241       0.000091      ...           -0.011313       0.005939   \n",
       "\n",
       "      Titan  Tech Mahindra  Larsen Toubro  Ultratech Cement  \\\n",
       "0 -0.005693      -0.025120      -0.002343         -0.001357   \n",
       "1  0.002728       0.002178       0.001808         -0.001085   \n",
       "2 -0.001174       0.012649       0.015947         -0.001071   \n",
       "3 -0.009510      -0.002330      -0.017209         -0.008908   \n",
       "4 -0.003641      -0.004189      -0.007321          0.003428   \n",
       "\n",
       "   Divis Laboratories  Pidilite Industries  Astral Polytech  Eicher Motors  \n",
       "0           -0.001352            -0.014004         0.006675      -0.011330  \n",
       "1            0.010937             0.006223         0.007544       0.023918  \n",
       "2            0.005250             0.006334         0.008083       0.008391  \n",
       "3            0.000770             0.009263         0.009565       0.007718  \n",
       "4            0.006033            -0.000617         0.002551      -0.012958  \n",
       "\n",
       "[5 rows x 24 columns]"
      ]
     },
     "execution_count": 3,
     "metadata": {},
     "output_type": "execute_result"
    }
   ],
   "source": [
    "returns = stocks.iloc[:,1:]\n",
    "returns.head()"
   ]
  },
  {
   "cell_type": "code",
   "execution_count": 4,
   "metadata": {},
   "outputs": [
    {
     "data": {
      "text/plain": [
       "HDFC Bank                                 -0.000792\n",
       "Kotak Mahindra Bank                        0.000738\n",
       "ICICI Bank                                 0.001999\n",
       "Bajaj Finance                              0.001911\n",
       "Reliance                                   0.001362\n",
       "Avenue Supermarts                          0.000799\n",
       "Housing Development Finance Corporation    0.000759\n",
       "Infosys                                   -0.000939\n",
       "Asian Paints                               0.001054\n",
       "Bajaj Finserv                              0.001494\n",
       "TCS                                        0.000538\n",
       "Nestle India                               0.001231\n",
       "HUL                                        0.000515\n",
       "Maruti Suzuki                             -0.000309\n",
       "Bandhan Bank                               0.000368\n",
       "Bharti Airtel                              0.000766\n",
       "Titan                                      0.000991\n",
       "Tech Mahindra                              0.000538\n",
       "Larsen Toubro                              0.000174\n",
       "Ultratech Cement                           0.000327\n",
       "Divis Laboratories                         0.001748\n",
       "Pidilite Industries                        0.000853\n",
       "Astral Polytech                            0.000669\n",
       "Eicher Motors                             -0.000372\n",
       "dtype: float64"
      ]
     },
     "execution_count": 4,
     "metadata": {},
     "output_type": "execute_result"
    }
   ],
   "source": [
    "#Calculating average return\n",
    "ave_return = returns.mean()\n",
    "ave_return"
   ]
  },
  {
   "cell_type": "code",
   "execution_count": 5,
   "metadata": {},
   "outputs": [],
   "source": [
    "#Calculates the risk matrix\n",
    "var_covar = returns.cov()\n",
    "var_covar\n",
    "n = len(returns.columns)"
   ]
  },
  {
   "cell_type": "code",
   "execution_count": 6,
   "metadata": {},
   "outputs": [],
   "source": [
    "from quadprog import solve_qp"
   ]
  },
  {
   "cell_type": "code",
   "execution_count": 7,
   "metadata": {},
   "outputs": [
    {
     "data": {
      "text/plain": [
       "(24, 26)"
      ]
     },
     "execution_count": 7,
     "metadata": {},
     "output_type": "execute_result"
    }
   ],
   "source": [
    "#Making the constraint function (LHS of constraints)\n",
    "cons1 = np.matrix([np.ones(n) ,ave_return])    \n",
    "cons2 = np.eye(n)\n",
    "C = np.concatenate([cons1,cons2],axis =0)\n",
    "C = C.T\n",
    "C.shape"
   ]
  },
  {
   "cell_type": "code",
   "execution_count": 8,
   "metadata": {},
   "outputs": [
    {
     "name": "stdout",
     "output_type": "stream",
     "text": [
      "What is the daily rate of return required?0.0003\n"
     ]
    }
   ],
   "source": [
    "req_return = float(input(\"What is the daily rate of return required?\")) #An example"
   ]
  },
  {
   "cell_type": "code",
   "execution_count": 9,
   "metadata": {},
   "outputs": [
    {
     "data": {
      "text/plain": [
       "0.0003"
      ]
     },
     "execution_count": 9,
     "metadata": {},
     "output_type": "execute_result"
    }
   ],
   "source": [
    "req_return"
   ]
  },
  {
   "cell_type": "code",
   "execution_count": 10,
   "metadata": {},
   "outputs": [
    {
     "data": {
      "text/plain": [
       "array([1.e+00, 3.e-04, 0.e+00, 0.e+00, 0.e+00, 0.e+00, 0.e+00, 0.e+00,\n",
       "       0.e+00, 0.e+00, 0.e+00, 0.e+00, 0.e+00, 0.e+00, 0.e+00, 0.e+00,\n",
       "       0.e+00, 0.e+00, 0.e+00, 0.e+00, 0.e+00, 0.e+00, 0.e+00, 0.e+00,\n",
       "       0.e+00, 0.e+00])"
      ]
     },
     "execution_count": 10,
     "metadata": {},
     "output_type": "execute_result"
    }
   ],
   "source": [
    "b1 = np.array([1,req_return])\n",
    "b2 = [0]*n\n",
    "b= np.concatenate([b1,b2],axis=0)\n",
    "b"
   ]
  },
  {
   "cell_type": "code",
   "execution_count": 11,
   "metadata": {},
   "outputs": [],
   "source": [
    "#Model Solving\n",
    "model = solve_qp(a=np.zeros(n),G=var_covar.values,C=C,b=b,meq=2)"
   ]
  },
  {
   "cell_type": "code",
   "execution_count": 12,
   "metadata": {},
   "outputs": [
    {
     "data": {
      "text/plain": [
       "(array([ 4.23715233e-02,  8.92662182e-02,  1.35075971e-17,  7.34437417e-18,\n",
       "         5.37208001e-19,  3.55055205e-18,  1.02089512e-02,  6.52392698e-02,\n",
       "        -4.95196796e-18,  9.39175209e-18,  2.18876292e-01,  0.00000000e+00,\n",
       "         1.82555007e-01,  4.55844709e-02,  2.29959358e-18,  1.15109766e-02,\n",
       "         1.32285788e-02,  1.06912425e-01,  1.42441555e-01,  1.02676426e-02,\n",
       "        -4.38737628e-18, -8.69975486e-18,  3.73395290e-02,  2.41975608e-02]),\n",
       " 3.64163253437568e-05,\n",
       " array([0., 0., 0., 0., 0., 0., 0., 0., 0., 0., 0., 0., 0., 0., 0., 0., 0.,\n",
       "        0., 0., 0., 0., 0., 0., 0.]),\n",
       " array([13,  0]),\n",
       " array([7.93774839e-05, 2.18161106e-02, 0.00000000e+00, 0.00000000e+00,\n",
       "        2.89482302e-05, 4.67876523e-05, 4.58389246e-06, 1.03638030e-05,\n",
       "        0.00000000e+00, 0.00000000e+00, 5.12711138e-06, 3.04379488e-05,\n",
       "        0.00000000e+00, 1.74568758e-06, 0.00000000e+00, 0.00000000e+00,\n",
       "        1.05897986e-05, 0.00000000e+00, 0.00000000e+00, 0.00000000e+00,\n",
       "        0.00000000e+00, 0.00000000e+00, 1.48355148e-05, 5.08974661e-06,\n",
       "        0.00000000e+00, 0.00000000e+00]),\n",
       " array([ 1,  2,  6, 12,  5, 23,  8, 11, 24, 17,  7, 14]))"
      ]
     },
     "execution_count": 12,
     "metadata": {},
     "output_type": "execute_result"
    }
   ],
   "source": [
    "model"
   ]
  },
  {
   "cell_type": "code",
   "execution_count": 13,
   "metadata": {},
   "outputs": [
    {
     "data": {
      "text/plain": [
       "array([-9.39468483e-04, -8.79495221e-04, -8.19521959e-04, -7.59548697e-04,\n",
       "       -6.99575435e-04, -6.39602173e-04, -5.79628911e-04, -5.19655649e-04,\n",
       "       -4.59682388e-04, -3.99709126e-04, -3.39735864e-04, -2.79762602e-04,\n",
       "       -2.19789340e-04, -1.59816078e-04, -9.98428161e-05, -3.98695542e-05,\n",
       "        2.01037078e-05,  8.00769697e-05,  1.40050232e-04,  2.00023494e-04,\n",
       "        2.59996755e-04,  3.19970017e-04,  3.79943279e-04,  4.39916541e-04,\n",
       "        4.99889803e-04,  5.59863065e-04,  6.19836327e-04,  6.79809589e-04,\n",
       "        7.39782851e-04,  7.99756113e-04,  8.59729375e-04,  9.19702636e-04,\n",
       "        9.79675898e-04,  1.03964916e-03,  1.09962242e-03,  1.15959568e-03,\n",
       "        1.21956895e-03,  1.27954221e-03,  1.33951547e-03,  1.39948873e-03,\n",
       "        1.45946199e-03,  1.51943526e-03,  1.57940852e-03,  1.63938178e-03,\n",
       "        1.69935504e-03,  1.75932830e-03,  1.81930157e-03,  1.87927483e-03,\n",
       "        1.93924809e-03,  1.99922135e-03])"
      ]
     },
     "execution_count": 13,
     "metadata": {},
     "output_type": "execute_result"
    }
   ],
   "source": [
    "ret_seq = np.linspace(min(ave_return),max(ave_return),num=50)\n",
    "ret_seq"
   ]
  },
  {
   "cell_type": "code",
   "execution_count": 15,
   "metadata": {},
   "outputs": [
    {
     "data": {
      "text/plain": [
       "0.00024993122427763304"
      ]
     },
     "execution_count": 15,
     "metadata": {},
     "output_type": "execute_result"
    }
   ],
   "source": [
    "#Calculating risk free rate\n",
    "sigma_seq = [] \n",
    "max_sr = 0\n",
    "rf = (1.065)**(1/252)-1\n",
    "rf"
   ]
  },
  {
   "cell_type": "code",
   "execution_count": 16,
   "metadata": {},
   "outputs": [],
   "source": [
    "for i in range(0,len(ret_seq)):\n",
    "    \n",
    "    cons1 = np.matrix([np.ones(n) ,ave_return])\n",
    "    cons2 = np.eye(n)\n",
    "    C = np.concatenate([cons1,cons2],axis =0)\n",
    "    cons3 = np.zeros((5,n))\n",
    "    cons3[0][0]=-1     #Imposing restrictions on maximum weights on some stocks\n",
    "    cons3[1][5]=-1\n",
    "    cons3[2][14]=-1\n",
    "    cons3[3][17]=-1\n",
    "    cons3[4][23]=-1\n",
    "    cons3 = cons3.reshape((5,-1))\n",
    "    C = np.concatenate([C,cons3])\n",
    "    C = C.T\n",
    "    \n",
    "    \n",
    "    #Limiting exposure of HDFC Bank to less than 10%\n",
    "    #Limiting exposure of Avenue Supermarts to less than 5%\n",
    "    #Limiting exposure of Bandhan Bank to less than 2%\n",
    "    #Limiting exposure of Tech Mahindra to less than 1.5%\n",
    "    #Limiting exposure of Eicher Motors to less than 0.5%\n",
    "    \n",
    "    b1 = np.array([1,ret_seq[i]])\n",
    "    b2 = [0]*n\n",
    "    b= np.concatenate([b1,b2],axis=0)\n",
    "    b= np.concatenate([b,[-0.10,-0.05,-0.02,-0.015,-0.005]],axis=0)\n",
    "    model = solve_qp(a=np.zeros(n),G=var_covar.values,C=C,b=b,meq=2)\n",
    "    sigma = np.sqrt(2*model[1])\n",
    "    sigma_seq.append(sigma)\n",
    "    \n",
    "    \n",
    "    sr = (ret_seq[i]-rf)/(sigma)\n",
    "    \n",
    "    if sr>max_sr:\n",
    "        max_sr = sr\n",
    "        weights_opt = model[0]"
   ]
  },
  {
   "cell_type": "code",
   "execution_count": 17,
   "metadata": {},
   "outputs": [],
   "source": [
    "r_p = np.sqrt(np.dot(np.dot(weights_opt.T,var_covar),weights_opt))\n",
    "ret_p = np.dot(ave_return,weights_opt)"
   ]
  },
  {
   "cell_type": "code",
   "execution_count": 18,
   "metadata": {},
   "outputs": [
    {
     "data": {
      "text/plain": [
       "[<matplotlib.lines.Line2D at 0x1fc21ef12b0>]"
      ]
     },
     "execution_count": 18,
     "metadata": {},
     "output_type": "execute_result"
    },
    {
     "data": {
      "image/png": "[encoded data removed]",
      "text/plain": [
       "<Figure size 432x288 with 1 Axes>"
      ]
     },
     "metadata": {},
     "output_type": "display_data"
    }
   ],
   "source": [
    "#Plotting\n",
    "plt.plot(sigma_seq,ret_seq,color='blue')\n",
    "plt.title('Efficient frontier')\n",
    "plt.xlabel('Risk')\n",
    "plt.ylabel('Return')\n",
    "\n",
    "plt.plot([0,r_p],[rf,ret_p],color='red',marker='o')"
   ]
  },
  {
   "cell_type": "code",
   "execution_count": 19,
   "metadata": {},
   "outputs": [
    {
     "data": {
      "text/plain": [
       "array([-2.24915349e-17, -1.72546645e-18,  2.78665347e-01,  1.07582321e-01,\n",
       "        1.42274886e-01, -8.69908642e-18, -1.16572242e-17, -6.39425133e-18,\n",
       "        0.00000000e+00,  3.77631675e-17,  2.80759679e-02,  2.07271687e-01,\n",
       "        1.15998585e-16,  1.15816389e-16, -2.21502697e-17,  2.77458225e-17,\n",
       "        8.21125895e-19, -3.17130401e-18, -8.89884646e-17, -1.09306953e-16,\n",
       "        2.36129792e-01, -6.42809553e-17,  9.30763141e-19, -6.84351493e-17])"
      ]
     },
     "execution_count": 19,
     "metadata": {},
     "output_type": "execute_result"
    }
   ],
   "source": [
    "#Optimum weights\n",
    "weights_opt"
   ]
  },
  {
   "cell_type": "code",
   "execution_count": 20,
   "metadata": {},
   "outputs": [
    {
     "data": {
      "text/plain": [
       "0.011551595041886875"
      ]
     },
     "execution_count": 20,
     "metadata": {},
     "output_type": "execute_result"
    }
   ],
   "source": [
    "#Optimum portfolio risk\n",
    "r_p"
   ]
  },
  {
   "cell_type": "code",
   "execution_count": 21,
   "metadata": {},
   "outputs": [
    {
     "data": {
      "text/plain": [
       "0.0016393817794543419"
      ]
     },
     "execution_count": 21,
     "metadata": {},
     "output_type": "execute_result"
    }
   ],
   "source": [
    "#Optimum Portfolio return\n",
    "ret_p"
   ]
  },
  {
   "cell_type": "code",
   "execution_count": null,
   "metadata": {},
   "outputs": [],
   "source": []
  }
 ],
 "metadata": {
  "kernelspec": {
   "display_name": "Python 3",
   "language": "python",
   "name": "python3"
  },
  "language_info": {
   "codemirror_mode": {
    "name": "ipython",
    "version": 3
   },
   "file_extension": ".py",
   "mimetype": "text/x-python",
   "name": "python",
   "nbconvert_exporter": "python",
   "pygments_lexer": "ipython3",
   "version": "3.6.5"
  }
 },
 "nbformat": 4,
 "nbformat_minor": 2
}
