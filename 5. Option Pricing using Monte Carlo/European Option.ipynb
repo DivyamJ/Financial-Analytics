{
 "cells": [
  {
   "cell_type": "code",
   "execution_count": 3,
   "metadata": {},
   "outputs": [],
   "source": [
    "#Importing Libraries\n",
    "import pandas as pd\n",
    "import numpy as np\n",
    "import matplotlib.pyplot as plt"
   ]
  },
  {
   "cell_type": "code",
   "execution_count": 2,
   "metadata": {},
   "outputs": [],
   "source": [
    "#Assumed values\n",
    "T = 50\n",
    "nT = 5000\n",
    "delT = T/nT\n",
    "rf=0.06\n",
    "sig = 0.13\n",
    "S0= 11900\n",
    "nsim = 100\n",
    "K = 12200"
   ]
  },
  {
   "cell_type": "markdown",
   "metadata": {},
   "source": [
    "Storing in a vector can be space consuming hence we use sum "
   ]
  },
  {
   "cell_type": "code",
   "execution_count": 3,
   "metadata": {},
   "outputs": [],
   "source": [
    "#Monte Carlo with European Options\n",
    "\n",
    "summ = 0 \n",
    "for j in range(0,nsim):\n",
    "    St = S0\n",
    "\n",
    "    for i in range(0,nT):\n",
    "        St = St*np.exp((rf-sig**2/2)*delT + sig*np.sqrt(delT)*np.random.randn(1))\n",
    "    payoff = max(0,St-K)\n",
    "    summ = summ + payoff\n",
    "\n",
    "payoff_avg = summ/nsim\n",
    "call = payoff_avg*np.exp(-rf*T)"
   ]
  },
  {
   "cell_type": "code",
   "execution_count": 4,
   "metadata": {},
   "outputs": [
    {
     "data": {
      "text/plain": [
       "array([12613.31959218])"
      ]
     },
     "execution_count": 4,
     "metadata": {},
     "output_type": "execute_result"
    }
   ],
   "source": [
    "call"
   ]
  },
  {
   "cell_type": "code",
   "execution_count": 5,
   "metadata": {},
   "outputs": [
    {
     "data": {
      "text/plain": [
       "array([1.45326696])"
      ]
     },
     "execution_count": 5,
     "metadata": {},
     "output_type": "execute_result"
    }
   ],
   "source": [
    "np.random.randn(1)"
   ]
  },
  {
   "cell_type": "code",
   "execution_count": 6,
   "metadata": {},
   "outputs": [],
   "source": [
    "#Monte Carlo with American Options\n",
    "\n",
    "St = np.zeros(nT+1)\n",
    "\n",
    "summ = 0 \n",
    "for j in range(0,nsim):\n",
    "    St = S0\n",
    "\n",
    "    for i in range(0,nT):\n",
    "        St = St*np.exp((rf-sig**2/2)*delT + sig*np.sqrt(delT)*np.random.randn(1))\n",
    "    payoff = max(0,St-K)\n",
    "    summ = summ + payoff\n",
    "\n",
    "payoff_avg = summ/nsim\n",
    "call = payoff_avg*np.exp(-rf*T)\n",
    "\n"
   ]
  },
  {
   "cell_type": "code",
   "execution_count": null,
   "metadata": {},
   "outputs": [],
   "source": []
  }
 ],
 "metadata": {
  "kernelspec": {
   "display_name": "Python 3",
   "language": "python",
   "name": "python3"
  },
  "language_info": {
   "codemirror_mode": {
    "name": "ipython",
    "version": 3
   },
   "file_extension": ".py",
   "mimetype": "text/x-python",
   "name": "python",
   "nbconvert_exporter": "python",
   "pygments_lexer": "ipython3",
   "version": "3.6.5"
  }
 },
 "nbformat": 4,
 "nbformat_minor": 2
}
