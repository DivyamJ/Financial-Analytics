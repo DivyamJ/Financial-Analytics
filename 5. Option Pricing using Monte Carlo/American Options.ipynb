{
 "cells": [
  {
   "cell_type": "code",
   "execution_count": 1,
   "metadata": {},
   "outputs": [],
   "source": [
    "#Importing Libraries\n",
    "import pandas as pd\n",
    "import numpy as np\n",
    "import matplotlib.pyplot as plt"
   ]
  },
  {
   "cell_type": "code",
   "execution_count": 2,
   "metadata": {},
   "outputs": [],
   "source": [
    "#Assumed values\n",
    "\n",
    "rf = 0.06\n",
    "S0 = 12089\n",
    "K = 12200\n",
    "T = 50/365\n",
    "nT = 10\n",
    "nS = 10\n",
    "sig = 0.15\n",
    "delT = T/nT"
   ]
  },
  {
   "cell_type": "code",
   "execution_count": 3,
   "metadata": {},
   "outputs": [],
   "source": [
    "ass_price = np.zeros((nS,nT))\n",
    "intrinsic_val = np.zeros((nS,nT))\n",
    "updated_val = np.zeros((nS,nT))"
   ]
  },
  {
   "cell_type": "code",
   "execution_count": 4,
   "metadata": {},
   "outputs": [
    {
     "data": {
      "text/plain": [
       "array([[12089.        , 12015.83568361, 11647.0012625 , 11518.03944677,\n",
       "        11330.0517002 , 11453.50240785, 11483.38532121, 11418.66719037,\n",
       "        11625.61515499, 11280.38208002],\n",
       "       [12089.        , 11813.59506918, 11942.60564912, 11878.54268228,\n",
       "        11726.82068442, 11701.44878764, 11997.06687771, 12039.49886459,\n",
       "        12047.38497885, 11874.45248056],\n",
       "       [12089.        , 11982.300242  , 11757.54523485, 11423.59207542,\n",
       "        11437.65403947, 11296.47065672, 11260.48379962, 11056.88395874,\n",
       "        10800.19346137, 10900.44943952],\n",
       "       [12089.        , 12247.81531073, 12154.11632429, 12037.46580408,\n",
       "        12259.76932693, 12194.00064325, 11867.28305833, 11789.50561697,\n",
       "        11576.67120753, 11784.84686439],\n",
       "       [12089.        , 12184.00786032, 12061.83868693, 12316.46796549,\n",
       "        12100.10136545, 12284.42017361, 12466.3931078 , 12547.56192102,\n",
       "        12843.43858069, 12526.76156735],\n",
       "       [12089.        , 12143.90928812, 11961.3311525 , 12163.01062225,\n",
       "        12089.58097427, 12020.56161127, 11842.2011057 , 11761.84743021,\n",
       "        11767.97362396, 11296.58860219],\n",
       "       [12089.        , 11591.46686575, 11249.40947935, 11234.06492404,\n",
       "        11130.71124937, 10979.63712363, 10791.80172926, 10559.36112365,\n",
       "        10703.43916852, 10633.30798941],\n",
       "       [12089.        , 12014.05949406, 11794.21608821, 11961.66081085,\n",
       "        11984.26620211, 12271.81148323, 12141.28205321, 12247.61448485,\n",
       "        12564.13802681, 12216.08725146],\n",
       "       [12089.        , 12159.06389254, 12500.57708898, 12551.40234276,\n",
       "        12495.28365195, 12713.61900882, 12818.65046174, 13068.34455504,\n",
       "        13536.19239418, 13058.13571616],\n",
       "       [12089.        , 11868.19637104, 11950.01993594, 11743.59472349,\n",
       "        11628.58935496, 11403.1860454 , 11399.96118968, 11540.97649827,\n",
       "        11744.2388177 , 11364.52576283]])"
      ]
     },
     "execution_count": 4,
     "metadata": {},
     "output_type": "execute_result"
    }
   ],
   "source": [
    "ass_price[:,0]=S0\n",
    "\n",
    "for i in range(0,nS):\n",
    "    for j in range(1,nT):\n",
    "        ass_price[i,j] = ass_price[i,j-1]*np.exp((rf-sig*2/2)*delT + sig*np.sqrt(delT)*np.random.randn(1))\n",
    "\n",
    "ass_price\n"
   ]
  },
  {
   "cell_type": "code",
   "execution_count": 5,
   "metadata": {},
   "outputs": [
    {
     "data": {
      "text/plain": [
       "array([[   0.        ,    0.        ,    0.        ,    0.        ,\n",
       "           0.        ,    0.        ,    0.        ,    0.        ,\n",
       "           0.        ,    0.        ],\n",
       "       [   0.        ,    0.        ,    0.        ,    0.        ,\n",
       "           0.        ,    0.        ,    0.        ,    0.        ,\n",
       "           0.        ,    0.        ],\n",
       "       [   0.        ,    0.        ,    0.        ,    0.        ,\n",
       "           0.        ,    0.        ,    0.        ,    0.        ,\n",
       "           0.        ,    0.        ],\n",
       "       [   0.        ,   47.81531073,    0.        ,    0.        ,\n",
       "          59.76932693,    0.        ,    0.        ,    0.        ,\n",
       "           0.        ,    0.        ],\n",
       "       [   0.        ,    0.        ,    0.        ,  116.46796549,\n",
       "           0.        ,   84.42017361,  266.3931078 ,  347.56192102,\n",
       "         643.43858069,  326.76156735],\n",
       "       [   0.        ,    0.        ,    0.        ,    0.        ,\n",
       "           0.        ,    0.        ,    0.        ,    0.        ,\n",
       "           0.        ,    0.        ],\n",
       "       [   0.        ,    0.        ,    0.        ,    0.        ,\n",
       "           0.        ,    0.        ,    0.        ,    0.        ,\n",
       "           0.        ,    0.        ],\n",
       "       [   0.        ,    0.        ,    0.        ,    0.        ,\n",
       "           0.        ,   71.81148323,    0.        ,   47.61448485,\n",
       "         364.13802681,   16.08725146],\n",
       "       [   0.        ,    0.        ,  300.57708898,  351.40234276,\n",
       "         295.28365195,  513.61900882,  618.65046174,  868.34455504,\n",
       "        1336.19239418,  858.13571616],\n",
       "       [   0.        ,    0.        ,    0.        ,    0.        ,\n",
       "           0.        ,    0.        ,    0.        ,    0.        ,\n",
       "           0.        ,    0.        ]])"
      ]
     },
     "execution_count": 5,
     "metadata": {},
     "output_type": "execute_result"
    }
   ],
   "source": [
    "for i in range(0,nS):\n",
    "    for j in range(0,nT):\n",
    "        intrinsic_val[i,j]=max(ass_price[i,j]-K,0)\n",
    "\n",
    "intrinsic_val"
   ]
  },
  {
   "cell_type": "code",
   "execution_count": 6,
   "metadata": {},
   "outputs": [
    {
     "data": {
      "text/plain": [
       "array([[  0.        ,   0.        ,   0.        ,   0.        ,\n",
       "          0.        ,   0.        ,   0.        ,   0.        ,\n",
       "          0.        ,   0.        ],\n",
       "       [  0.        ,   0.        ,   0.        ,   0.        ,\n",
       "          0.        ,   0.        ,   0.        ,   0.        ,\n",
       "          0.        ,   0.        ],\n",
       "       [  0.        ,   0.        ,   0.        ,   0.        ,\n",
       "          0.        ,   0.        ,   0.        ,   0.        ,\n",
       "          0.        ,   0.        ],\n",
       "       [  0.        ,   0.        ,   0.        ,   0.        ,\n",
       "          0.        ,   0.        ,   0.        ,   0.        ,\n",
       "          0.        ,   0.        ],\n",
       "       [  0.        ,   0.        ,   0.        ,   0.        ,\n",
       "          0.        ,   0.        ,   0.        ,   0.        ,\n",
       "          0.        , 326.76156735],\n",
       "       [  0.        ,   0.        ,   0.        ,   0.        ,\n",
       "          0.        ,   0.        ,   0.        ,   0.        ,\n",
       "          0.        ,   0.        ],\n",
       "       [  0.        ,   0.        ,   0.        ,   0.        ,\n",
       "          0.        ,   0.        ,   0.        ,   0.        ,\n",
       "          0.        ,   0.        ],\n",
       "       [  0.        ,   0.        ,   0.        ,   0.        ,\n",
       "          0.        ,   0.        ,   0.        ,   0.        ,\n",
       "          0.        ,  16.08725146],\n",
       "       [  0.        ,   0.        ,   0.        ,   0.        ,\n",
       "          0.        ,   0.        ,   0.        ,   0.        ,\n",
       "          0.        , 858.13571616],\n",
       "       [  0.        ,   0.        ,   0.        ,   0.        ,\n",
       "          0.        ,   0.        ,   0.        ,   0.        ,\n",
       "          0.        ,   0.        ]])"
      ]
     },
     "execution_count": 6,
     "metadata": {},
     "output_type": "execute_result"
    }
   ],
   "source": [
    "updated_val[:,nT-1]=intrinsic_val[:,nT-1]\n",
    "updated_val"
   ]
  },
  {
   "cell_type": "code",
   "execution_count": 40,
   "metadata": {},
   "outputs": [],
   "source": [
    "from sklearn.linear_model import LinearRegression"
   ]
  },
  {
   "cell_type": "code",
   "execution_count": 51,
   "metadata": {},
   "outputs": [],
   "source": [
    "for i in range(nT-2,0,-1):\n",
    "    indicator = intrinsic_val[:,i]>0\n",
    "    index = np.where(indicator)[0]\n",
    "    \n",
    "    pv_wait = np.zeros(nS)\n",
    "    for j in range(0,nS):\n",
    "        for k in range(i+1,nT):\n",
    "            pv_wait[j]=pv_wait[j]+updated_val[j,k]*np.exp(-rf*(k-i)*delT)\n",
    "    \n",
    "    p = ass_price[index,i]\n",
    "    pp = ass_price[index,i]**2  \n",
    "    \n",
    "    regressor = LinearRegression()\n",
    "    X_train = np.concatenate([np.ones(len(index)).reshape(-1,1),p.reshape(-1,1),pp.reshape(-1,1)],axis=1)\n",
    "    y = pv_wait[index]\n",
    "    regressor.fit(X_train, y)\n",
    "    \n",
    "    y_pred = np.zeros(nS)\n",
    "    y_pred[index]=regressor.predict(X_train)\n",
    "    \n",
    "    for j in range(0,nS):\n",
    "        if(intrinsic_val[j,i]>y_pred[j]):\n",
    "            updated_val[j,i]=intrinsic_val[j,i]\n",
    "            for k in range(i+1,nT):\n",
    "                updated_val[j,k]=0\n",
    "    "
   ]
  },
  {
   "cell_type": "code",
   "execution_count": 52,
   "metadata": {},
   "outputs": [
    {
     "data": {
      "text/plain": [
       "array([[   0.        ,    0.        ,    0.        ,    0.        ,\n",
       "           0.        ,    0.        ,    0.        ,    0.        ,\n",
       "           0.        ,    0.        ],\n",
       "       [   0.        ,    0.        ,    0.        ,    0.        ,\n",
       "           0.        ,    0.        ,    0.        ,    0.        ,\n",
       "           0.        ,    0.        ],\n",
       "       [   0.        ,    0.        ,    0.        ,    0.        ,\n",
       "           0.        ,    0.        ,    0.        ,    0.        ,\n",
       "           0.        ,    0.        ],\n",
       "       [   0.        ,    0.        ,    0.        ,    0.        ,\n",
       "          59.76932693,    0.        ,    0.        ,    0.        ,\n",
       "           0.        ,    0.        ],\n",
       "       [   0.        ,    0.        ,    0.        ,    0.        ,\n",
       "           0.        ,    0.        ,    0.        ,    0.        ,\n",
       "         643.43858069,    0.        ],\n",
       "       [   0.        ,    0.        ,    0.        ,    0.        ,\n",
       "           0.        ,    0.        ,    0.        ,    0.        ,\n",
       "           0.        ,    0.        ],\n",
       "       [   0.        ,    0.        ,    0.        ,    0.        ,\n",
       "           0.        ,    0.        ,    0.        ,    0.        ,\n",
       "           0.        ,    0.        ],\n",
       "       [   0.        ,    0.        ,    0.        ,    0.        ,\n",
       "           0.        ,    0.        ,    0.        ,    0.        ,\n",
       "         364.13802681,    0.        ],\n",
       "       [   0.        ,    0.        ,    0.        ,    0.        ,\n",
       "           0.        ,    0.        ,    0.        ,    0.        ,\n",
       "        1336.19239418,    0.        ],\n",
       "       [   0.        ,    0.        ,    0.        ,    0.        ,\n",
       "           0.        ,    0.        ,    0.        ,    0.        ,\n",
       "           0.        ,    0.        ]])"
      ]
     },
     "execution_count": 52,
     "metadata": {},
     "output_type": "execute_result"
    }
   ],
   "source": [
    "updated_val"
   ]
  },
  {
   "cell_type": "code",
   "execution_count": 55,
   "metadata": {},
   "outputs": [
    {
     "data": {
      "text/plain": [
       "238.79816212397304"
      ]
     },
     "execution_count": 55,
     "metadata": {},
     "output_type": "execute_result"
    }
   ],
   "source": [
    "pv_wait = np.zeros(nS)\n",
    "for j in range(0,nS):\n",
    "    for k in range(0,nT):\n",
    "        pv_wait[j]=pv_wait[j]+updated_val[j,k]*np.exp(-rf*(k)*delT)\n",
    "            \n",
    "call = np.mean(pv_wait)\n",
    "call"
   ]
  },
  {
   "cell_type": "code",
   "execution_count": 56,
   "metadata": {},
   "outputs": [
    {
     "data": {
      "text/plain": [
       "1.0"
      ]
     },
     "execution_count": 56,
     "metadata": {},
     "output_type": "execute_result"
    }
   ],
   "source": [
    "np.mean([0,1,2])"
   ]
  }
 ],
 "metadata": {
  "kernelspec": {
   "display_name": "Python 3",
   "language": "python",
   "name": "python3"
  },
  "language_info": {
   "codemirror_mode": {
    "name": "ipython",
    "version": 3
   },
   "file_extension": ".py",
   "mimetype": "text/x-python",
   "name": "python",
   "nbconvert_exporter": "python",
   "pygments_lexer": "ipython3",
   "version": "3.6.5"
  }
 },
 "nbformat": 4,
 "nbformat_minor": 2
}
