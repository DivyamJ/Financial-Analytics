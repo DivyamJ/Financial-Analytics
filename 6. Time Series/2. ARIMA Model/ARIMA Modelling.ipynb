{
 "cells": [
  {
   "cell_type": "markdown",
   "metadata": {},
   "source": [
    "# ARIMA Modelling"
   ]
  },
  {
   "cell_type": "code",
   "execution_count": 1,
   "metadata": {},
   "outputs": [],
   "source": [
    "import pandas as pd\n",
    "import numpy as np\n",
    "import matplotlib.pyplot as plt\n",
    "%matplotlib inline"
   ]
  },
  {
   "cell_type": "code",
   "execution_count": 2,
   "metadata": {},
   "outputs": [],
   "source": [
    "#Importing the dataset\n",
    "df = pd.read_excel(\"Lecture 2_Data.xls\")"
   ]
  },
  {
   "cell_type": "code",
   "execution_count": 4,
   "metadata": {},
   "outputs": [
    {
     "data": {
      "text/html": [
       "<div>\n",
       "<style scoped>\n",
       "    .dataframe tbody tr th:only-of-type {\n",
       "        vertical-align: middle;\n",
       "    }\n",
       "\n",
       "    .dataframe tbody tr th {\n",
       "        vertical-align: top;\n",
       "    }\n",
       "\n",
       "    .dataframe thead th {\n",
       "        text-align: right;\n",
       "    }\n",
       "</style>\n",
       "<table border=\"1\" class=\"dataframe\">\n",
       "  <thead>\n",
       "    <tr style=\"text-align: right;\">\n",
       "      <th></th>\n",
       "      <th>Year</th>\n",
       "      <th>MAC</th>\n",
       "      <th>TUR</th>\n",
       "      <th>BMS</th>\n",
       "      <th>EXP</th>\n",
       "      <th>IMP</th>\n",
       "      <th>GDP</th>\n",
       "      <th>IIP</th>\n",
       "    </tr>\n",
       "  </thead>\n",
       "  <tbody>\n",
       "    <tr>\n",
       "      <th>207</th>\n",
       "      <td>August</td>\n",
       "      <td>3.82479</td>\n",
       "      <td>1.76914</td>\n",
       "      <td>-0.12172</td>\n",
       "      <td>0.09169</td>\n",
       "      <td>0.29982</td>\n",
       "      <td>0.0794</td>\n",
       "      <td>1.06187</td>\n",
       "    </tr>\n",
       "    <tr>\n",
       "      <th>208</th>\n",
       "      <td>September</td>\n",
       "      <td>3.81191</td>\n",
       "      <td>1.77250</td>\n",
       "      <td>-0.12521</td>\n",
       "      <td>0.13998</td>\n",
       "      <td>0.31464</td>\n",
       "      <td>0.0794</td>\n",
       "      <td>1.22523</td>\n",
       "    </tr>\n",
       "    <tr>\n",
       "      <th>209</th>\n",
       "      <td>October</td>\n",
       "      <td>3.82704</td>\n",
       "      <td>1.67068</td>\n",
       "      <td>-0.12377</td>\n",
       "      <td>0.09666</td>\n",
       "      <td>0.33970</td>\n",
       "      <td>0.0794</td>\n",
       "      <td>1.05492</td>\n",
       "    </tr>\n",
       "    <tr>\n",
       "      <th>210</th>\n",
       "      <td>November</td>\n",
       "      <td>3.78038</td>\n",
       "      <td>1.66904</td>\n",
       "      <td>-0.12592</td>\n",
       "      <td>0.09901</td>\n",
       "      <td>0.32291</td>\n",
       "      <td>0.0794</td>\n",
       "      <td>1.31831</td>\n",
       "    </tr>\n",
       "    <tr>\n",
       "      <th>211</th>\n",
       "      <td>December</td>\n",
       "      <td>3.74968</td>\n",
       "      <td>1.61818</td>\n",
       "      <td>-0.11966</td>\n",
       "      <td>0.14611</td>\n",
       "      <td>0.34168</td>\n",
       "      <td>0.0794</td>\n",
       "      <td>1.35491</td>\n",
       "    </tr>\n",
       "  </tbody>\n",
       "</table>\n",
       "</div>"
      ],
      "text/plain": [
       "          Year      MAC      TUR      BMS      EXP      IMP     GDP      IIP\n",
       "207     August  3.82479  1.76914 -0.12172  0.09169  0.29982  0.0794  1.06187\n",
       "208  September  3.81191  1.77250 -0.12521  0.13998  0.31464  0.0794  1.22523\n",
       "209    October  3.82704  1.67068 -0.12377  0.09666  0.33970  0.0794  1.05492\n",
       "210   November  3.78038  1.66904 -0.12592  0.09901  0.32291  0.0794  1.31831\n",
       "211   December  3.74968  1.61818 -0.11966  0.14611  0.34168  0.0794  1.35491"
      ]
     },
     "execution_count": 4,
     "metadata": {},
     "output_type": "execute_result"
    }
   ],
   "source": [
    "df.head()\n",
    "df.tail()"
   ]
  },
  {
   "cell_type": "code",
   "execution_count": 5,
   "metadata": {},
   "outputs": [
    {
     "data": {
      "text/html": [
       "<div>\n",
       "<style scoped>\n",
       "    .dataframe tbody tr th:only-of-type {\n",
       "        vertical-align: middle;\n",
       "    }\n",
       "\n",
       "    .dataframe tbody tr th {\n",
       "        vertical-align: top;\n",
       "    }\n",
       "\n",
       "    .dataframe thead th {\n",
       "        text-align: right;\n",
       "    }\n",
       "</style>\n",
       "<table border=\"1\" class=\"dataframe\">\n",
       "  <thead>\n",
       "    <tr style=\"text-align: right;\">\n",
       "      <th></th>\n",
       "      <th>MAC</th>\n",
       "      <th>TUR</th>\n",
       "      <th>BMS</th>\n",
       "      <th>EXP</th>\n",
       "      <th>IMP</th>\n",
       "      <th>GDP</th>\n",
       "      <th>IIP</th>\n",
       "    </tr>\n",
       "  </thead>\n",
       "  <tbody>\n",
       "    <tr>\n",
       "      <th>count</th>\n",
       "      <td>212.000000</td>\n",
       "      <td>212.000000</td>\n",
       "      <td>212.000000</td>\n",
       "      <td>212.000000</td>\n",
       "      <td>212.000000</td>\n",
       "      <td>212.000000</td>\n",
       "      <td>212.000000</td>\n",
       "    </tr>\n",
       "    <tr>\n",
       "      <th>mean</th>\n",
       "      <td>3.638189</td>\n",
       "      <td>2.086645</td>\n",
       "      <td>-0.231248</td>\n",
       "      <td>-0.073721</td>\n",
       "      <td>0.047141</td>\n",
       "      <td>0.012583</td>\n",
       "      <td>1.162602</td>\n",
       "    </tr>\n",
       "    <tr>\n",
       "      <th>std</th>\n",
       "      <td>0.206816</td>\n",
       "      <td>0.280651</td>\n",
       "      <td>0.085211</td>\n",
       "      <td>0.110174</td>\n",
       "      <td>0.159548</td>\n",
       "      <td>0.109454</td>\n",
       "      <td>0.206934</td>\n",
       "    </tr>\n",
       "    <tr>\n",
       "      <th>min</th>\n",
       "      <td>3.280340</td>\n",
       "      <td>1.229030</td>\n",
       "      <td>-0.370290</td>\n",
       "      <td>-0.256080</td>\n",
       "      <td>-0.227970</td>\n",
       "      <td>-0.204060</td>\n",
       "      <td>-0.059410</td>\n",
       "    </tr>\n",
       "    <tr>\n",
       "      <th>25%</th>\n",
       "      <td>3.486965</td>\n",
       "      <td>1.944568</td>\n",
       "      <td>-0.313480</td>\n",
       "      <td>-0.171643</td>\n",
       "      <td>-0.089095</td>\n",
       "      <td>-0.037520</td>\n",
       "      <td>1.126227</td>\n",
       "    </tr>\n",
       "    <tr>\n",
       "      <th>50%</th>\n",
       "      <td>3.580850</td>\n",
       "      <td>2.098090</td>\n",
       "      <td>-0.203585</td>\n",
       "      <td>-0.088850</td>\n",
       "      <td>-0.008025</td>\n",
       "      <td>0.047700</td>\n",
       "      <td>1.187990</td>\n",
       "    </tr>\n",
       "    <tr>\n",
       "      <th>75%</th>\n",
       "      <td>3.854095</td>\n",
       "      <td>2.265703</td>\n",
       "      <td>-0.163205</td>\n",
       "      <td>0.009917</td>\n",
       "      <td>0.198442</td>\n",
       "      <td>0.087220</td>\n",
       "      <td>1.265635</td>\n",
       "    </tr>\n",
       "    <tr>\n",
       "      <th>max</th>\n",
       "      <td>4.131340</td>\n",
       "      <td>2.713720</td>\n",
       "      <td>-0.109780</td>\n",
       "      <td>0.204590</td>\n",
       "      <td>0.397750</td>\n",
       "      <td>0.161080</td>\n",
       "      <td>1.476260</td>\n",
       "    </tr>\n",
       "  </tbody>\n",
       "</table>\n",
       "</div>"
      ],
      "text/plain": [
       "              MAC         TUR         BMS         EXP         IMP         GDP  \\\n",
       "count  212.000000  212.000000  212.000000  212.000000  212.000000  212.000000   \n",
       "mean     3.638189    2.086645   -0.231248   -0.073721    0.047141    0.012583   \n",
       "std      0.206816    0.280651    0.085211    0.110174    0.159548    0.109454   \n",
       "min      3.280340    1.229030   -0.370290   -0.256080   -0.227970   -0.204060   \n",
       "25%      3.486965    1.944568   -0.313480   -0.171643   -0.089095   -0.037520   \n",
       "50%      3.580850    2.098090   -0.203585   -0.088850   -0.008025    0.047700   \n",
       "75%      3.854095    2.265703   -0.163205    0.009917    0.198442    0.087220   \n",
       "max      4.131340    2.713720   -0.109780    0.204590    0.397750    0.161080   \n",
       "\n",
       "              IIP  \n",
       "count  212.000000  \n",
       "mean     1.162602  \n",
       "std      0.206934  \n",
       "min     -0.059410  \n",
       "25%      1.126227  \n",
       "50%      1.187990  \n",
       "75%      1.265635  \n",
       "max      1.476260  "
      ]
     },
     "execution_count": 5,
     "metadata": {},
     "output_type": "execute_result"
    }
   ],
   "source": [
    "df.describe()"
   ]
  },
  {
   "cell_type": "code",
   "execution_count": 6,
   "metadata": {},
   "outputs": [
    {
     "data": {
      "text/plain": [
       "Index(['Year', 'MAC', 'TUR', 'BMS', 'EXP', 'IMP', 'GDP', 'IIP'], dtype='object')"
      ]
     },
     "execution_count": 6,
     "metadata": {},
     "output_type": "execute_result"
    }
   ],
   "source": [
    "df.columns"
   ]
  },
  {
   "cell_type": "code",
   "execution_count": 14,
   "metadata": {},
   "outputs": [
    {
     "data": {
      "text/plain": [
       "<matplotlib.axes._subplots.AxesSubplot at 0x25bd75c87b8>"
      ]
     },
     "execution_count": 14,
     "metadata": {},
     "output_type": "execute_result"
    },
    {
     "data": {
      "image/png": "[encoded data removed]",
      "text/plain": [
       "<Figure size 432x288 with 1 Axes>"
      ]
     },
     "metadata": {},
     "output_type": "display_data"
    }
   ],
   "source": [
    "df['IIP'].plot()"
   ]
  },
  {
   "cell_type": "code",
   "execution_count": 15,
   "metadata": {},
   "outputs": [],
   "source": [
    "from statsmodels.tsa.stattools import adfuller"
   ]
  },
  {
   "cell_type": "code",
   "execution_count": 16,
   "metadata": {},
   "outputs": [
    {
     "data": {
      "text/plain": [
       "(-2.0483192660445244,\n",
       " 0.26579658905771053,\n",
       " 12,\n",
       " 199,\n",
       " {'1%': -3.4636447617687436,\n",
       "  '5%': -2.8761761179270766,\n",
       "  '10%': -2.57457158581854},\n",
       " -303.7305853595491)"
      ]
     },
     "execution_count": 16,
     "metadata": {},
     "output_type": "execute_result"
    }
   ],
   "source": [
    "result = adfuller(df['IIP'])\n",
    "result"
   ]
  },
  {
   "cell_type": "code",
   "execution_count": 17,
   "metadata": {},
   "outputs": [],
   "source": [
    "df['First IIP'] = df['IIP'] - df['IIP'].shift(1)"
   ]
  },
  {
   "cell_type": "code",
   "execution_count": 18,
   "metadata": {},
   "outputs": [
    {
     "data": {
      "text/plain": [
       "<matplotlib.axes._subplots.AxesSubplot at 0x25bdb943438>"
      ]
     },
     "execution_count": 18,
     "metadata": {},
     "output_type": "execute_result"
    },
    {
     "data": {
      "image/png": "[encoded data removed]",
      "text/plain": [
       "<Figure size 432x288 with 1 Axes>"
      ]
     },
     "metadata": {},
     "output_type": "display_data"
    }
   ],
   "source": [
    "df['First IIP'].plot()"
   ]
  },
  {
   "cell_type": "code",
   "execution_count": 20,
   "metadata": {},
   "outputs": [
    {
     "data": {
      "text/plain": [
       "(-14.251480107626353,\n",
       " 1.478475479395074e-26,\n",
       " 11,\n",
       " 199,\n",
       " {'1%': -3.4636447617687436,\n",
       "  '5%': -2.8761761179270766,\n",
       "  '10%': -2.57457158581854},\n",
       " -299.4279427894014)"
      ]
     },
     "execution_count": 20,
     "metadata": {},
     "output_type": "execute_result"
    }
   ],
   "source": [
    "result = adfuller(df['First IIP'].dropna())\n",
    "result"
   ]
  },
  {
   "cell_type": "code",
   "execution_count": 21,
   "metadata": {},
   "outputs": [],
   "source": [
    "from statsmodels.graphics.tsaplots import plot_acf,plot_pacf"
   ]
  },
  {
   "cell_type": "code",
   "execution_count": 22,
   "metadata": {},
   "outputs": [
    {
     "data": {
      "image/png": "[encoded data removed]",
      "text/plain": [
       "<Figure size 432x288 with 1 Axes>"
      ]
     },
     "metadata": {},
     "output_type": "display_data"
    }
   ],
   "source": [
    "fig_first = plot_acf(df['First IIP'].dropna())"
   ]
  },
  {
   "cell_type": "code",
   "execution_count": 24,
   "metadata": {},
   "outputs": [
    {
     "data": {
      "image/png": "[encoded data removed]",
      "text/plain": [
       "<Figure size 432x288 with 1 Axes>"
      ]
     },
     "metadata": {},
     "output_type": "display_data"
    }
   ],
   "source": [
    "fig_first = plot_pacf(df['First IIP'].dropna(),method='ywmle')"
   ]
  },
  {
   "cell_type": "code",
   "execution_count": 29,
   "metadata": {},
   "outputs": [
    {
     "data": {
      "image/png": "[encoded data removed]",
      "text/plain": [
       "<Figure size 864x576 with 2 Axes>"
      ]
     },
     "metadata": {},
     "output_type": "display_data"
    }
   ],
   "source": [
    "fig = plt.figure(figsize=(12,8))\n",
    "ax1 = fig.add_subplot(211)\n",
    "fig = plot_acf(df['First IIP'].dropna(), lags=40, ax=ax1)\n",
    "ax2 = fig.add_subplot(212)\n",
    "fig = plot_pacf(df['First IIP'].dropna(), method='ywmle', lags=40, ax=ax2)"
   ]
  },
  {
   "cell_type": "code",
   "execution_count": 30,
   "metadata": {},
   "outputs": [],
   "source": [
    "from statsmodels.tsa.arima_model import ARIMA"
   ]
  },
  {
   "cell_type": "code",
   "execution_count": 31,
   "metadata": {},
   "outputs": [
    {
     "name": "stdout",
     "output_type": "stream",
     "text": [
      "Help on class ARIMA in module statsmodels.tsa.arima_model:\n",
      "\n",
      "class ARIMA(ARMA)\n",
      " |  Autoregressive Integrated Moving Average ARIMA(p,d,q) Model\n",
      " |  \n",
      " |  Parameters\n",
      " |  ----------\n",
      " |  endog : array-like\n",
      " |      The endogenous variable.\n",
      " |  order : iterable\n",
      " |      The (p,d,q) order of the model for the number of AR parameters,\n",
      " |      differences, and MA parameters to use.\n",
      " |  exog : array-like, optional\n",
      " |      An optional array of exogenous variables. This should *not* include a\n",
      " |      constant or trend. You can specify this in the `fit` method.\n",
      " |  dates : array-like of datetime, optional\n",
      " |      An array-like object of datetime objects. If a pandas object is given\n",
      " |      for endog or exog, it is assumed to have a DateIndex.\n",
      " |  freq : str, optional\n",
      " |      The frequency of the time-series. A Pandas offset or 'B', 'D', 'W',\n",
      " |      'M', 'A', or 'Q'. This is optional if dates are given.\n",
      " |  \n",
      " |  \n",
      " |  Notes\n",
      " |  -----\n",
      " |  If exogenous variables are given, then the model that is fit is\n",
      " |  \n",
      " |  .. math::\n",
      " |  \n",
      " |     \\phi(L)(y_t - X_t\\beta) = \\theta(L)\\epsilon_t\n",
      " |  \n",
      " |  where :math:`\\phi` and :math:`\\theta` are polynomials in the lag\n",
      " |  operator, :math:`L`. This is the regression model with ARMA errors,\n",
      " |  or ARMAX model. This specification is used, whether or not the model\n",
      " |  is fit using conditional sum of square or maximum-likelihood, using\n",
      " |  the `method` argument in\n",
      " |  :meth:`statsmodels.tsa.arima_model.ARIMA.fit`. Therefore, for\n",
      " |  now, `css` and `mle` refer to estimation methods only. This may\n",
      " |  change for the case of the `css` model in future versions.\n",
      " |  \n",
      " |  Method resolution order:\n",
      " |      ARIMA\n",
      " |      ARMA\n",
      " |      statsmodels.tsa.base.tsa_model.TimeSeriesModel\n",
      " |      statsmodels.base.model.LikelihoodModel\n",
      " |      statsmodels.base.model.Model\n",
      " |      builtins.object\n",
      " |  \n",
      " |  Methods defined here:\n",
      " |  \n",
      " |  __getnewargs__(self)\n",
      " |  \n",
      " |  __init__(self, endog, order, exog=None, dates=None, freq=None, missing='none')\n",
      " |      Initialize self.  See help(type(self)) for accurate signature.\n",
      " |  \n",
      " |  fit(self, start_params=None, trend='c', method='css-mle', transparams=True, solver='lbfgs', maxiter=500, full_output=1, disp=5, callback=None, start_ar_lags=None, **kwargs)\n",
      " |      Fits ARIMA(p,d,q) model by exact maximum likelihood via Kalman filter.\n",
      " |      \n",
      " |      Parameters\n",
      " |      ----------\n",
      " |      start_params : array-like, optional\n",
      " |          Starting parameters for ARMA(p,q).  If None, the default is given\n",
      " |          by ARMA._fit_start_params.  See there for more information.\n",
      " |      transparams : bool, optional\n",
      " |          Whehter or not to transform the parameters to ensure stationarity.\n",
      " |          Uses the transformation suggested in Jones (1980).  If False,\n",
      " |          no checking for stationarity or invertibility is done.\n",
      " |      method : str {'css-mle','mle','css'}\n",
      " |          This is the loglikelihood to maximize.  If \"css-mle\", the\n",
      " |          conditional sum of squares likelihood is maximized and its values\n",
      " |          are used as starting values for the computation of the exact\n",
      " |          likelihood via the Kalman filter.  If \"mle\", the exact likelihood\n",
      " |          is maximized via the Kalman Filter.  If \"css\" the conditional sum\n",
      " |          of squares likelihood is maximized.  All three methods use\n",
      " |          `start_params` as starting parameters.  See above for more\n",
      " |          information.\n",
      " |      trend : str {'c','nc'}\n",
      " |          Whether to include a constant or not.  'c' includes constant,\n",
      " |          'nc' no constant.\n",
      " |      solver : str or None, optional\n",
      " |          Solver to be used.  The default is 'lbfgs' (limited memory\n",
      " |          Broyden-Fletcher-Goldfarb-Shanno).  Other choices are 'bfgs',\n",
      " |          'newton' (Newton-Raphson), 'nm' (Nelder-Mead), 'cg' -\n",
      " |          (conjugate gradient), 'ncg' (non-conjugate gradient), and\n",
      " |          'powell'. By default, the limited memory BFGS uses m=12 to\n",
      " |          approximate the Hessian, projected gradient tolerance of 1e-8 and\n",
      " |          factr = 1e2. You can change these by using kwargs.\n",
      " |      maxiter : int, optional\n",
      " |          The maximum number of function evaluations. Default is 500.\n",
      " |      tol : float\n",
      " |          The convergence tolerance.  Default is 1e-08.\n",
      " |      full_output : bool, optional\n",
      " |          If True, all output from solver will be available in\n",
      " |          the Results object's mle_retvals attribute.  Output is dependent\n",
      " |          on the solver.  See Notes for more information.\n",
      " |      disp : int, optional\n",
      " |          If True, convergence information is printed.  For the default\n",
      " |          l_bfgs_b solver, disp controls the frequency of the output during\n",
      " |          the iterations. disp < 0 means no output in this case.\n",
      " |      callback : function, optional\n",
      " |          Called after each iteration as callback(xk) where xk is the current\n",
      " |          parameter vector.\n",
      " |      start_ar_lags : int, optional\n",
      " |          Parameter for fitting start_params. When fitting start_params,\n",
      " |          residuals are obtained from an AR fit, then an ARMA(p,q) model is\n",
      " |          fit via OLS using these residuals. If start_ar_lags is None, fit\n",
      " |          an AR process according to best BIC. If start_ar_lags is not None,\n",
      " |          fits an AR process with a lag length equal to start_ar_lags.\n",
      " |          See ARMA._fit_start_params_hr for more information.\n",
      " |      kwargs\n",
      " |          See Notes for keyword arguments that can be passed to fit.\n",
      " |      \n",
      " |      Returns\n",
      " |      -------\n",
      " |      `statsmodels.tsa.arima.ARIMAResults` class\n",
      " |      \n",
      " |      See also\n",
      " |      --------\n",
      " |      statsmodels.base.model.LikelihoodModel.fit : for more information\n",
      " |          on using the solvers.\n",
      " |      ARIMAResults : results class returned by fit\n",
      " |      \n",
      " |      Notes\n",
      " |      ------\n",
      " |      If fit by 'mle', it is assumed for the Kalman Filter that the initial\n",
      " |      unkown state is zero, and that the inital variance is\n",
      " |      P = dot(inv(identity(m**2)-kron(T,T)),dot(R,R.T).ravel('F')).reshape(r,\n",
      " |      r, order = 'F')\n",
      " |  \n",
      " |  predict(self, params, start=None, end=None, exog=None, typ='linear', dynamic=False)\n",
      " |      ARIMA model in-sample and out-of-sample prediction\n",
      " |      \n",
      " |      Parameters\n",
      " |      ----------\n",
      " |      params : array-like\n",
      " |          The fitted parameters of the model.\n",
      " |      start : int, str, or datetime\n",
      " |          Zero-indexed observation number at which to start forecasting, ie.,\n",
      " |          the first forecast is start. Can also be a date string to\n",
      " |          parse or a datetime type.\n",
      " |      end : int, str, or datetime\n",
      " |          Zero-indexed observation number at which to end forecasting, ie.,\n",
      " |          the first forecast is start. Can also be a date string to\n",
      " |          parse or a datetime type. However, if the dates index does not\n",
      " |          have a fixed frequency, end must be an integer index if you\n",
      " |          want out of sample prediction.\n",
      " |      exog : array-like, optional\n",
      " |          If the model is an ARMAX and out-of-sample forecasting is\n",
      " |          requested, exog must be given. Note that you'll need to pass\n",
      " |          `k_ar` additional lags for any exogenous variables. E.g., if you\n",
      " |          fit an ARMAX(2, q) model and want to predict 5 steps, you need 7\n",
      " |          observations to do this.\n",
      " |      dynamic : bool, optional\n",
      " |          The `dynamic` keyword affects in-sample prediction. If dynamic\n",
      " |          is False, then the in-sample lagged values are used for\n",
      " |          prediction. If `dynamic` is True, then in-sample forecasts are\n",
      " |          used in place of lagged dependent variables. The first forecasted\n",
      " |          value is `start`.\n",
      " |      typ : str {'linear', 'levels'}\n",
      " |      \n",
      " |          - 'linear' : Linear prediction in terms of the differenced\n",
      " |            endogenous variables.\n",
      " |          - 'levels' : Predict the levels of the original endogenous\n",
      " |            variables.\n",
      " |      \n",
      " |      \n",
      " |      Returns\n",
      " |      -------\n",
      " |      predict : array\n",
      " |          The predicted values.\n",
      " |      \n",
      " |      \n",
      " |      \n",
      " |      Notes\n",
      " |      -----\n",
      " |      Use the results predict method instead.\n",
      " |  \n",
      " |  ----------------------------------------------------------------------\n",
      " |  Static methods defined here:\n",
      " |  \n",
      " |  __new__(cls, endog, order, exog=None, dates=None, freq=None, missing='none')\n",
      " |      Create and return a new object.  See help(type) for accurate signature.\n",
      " |  \n",
      " |  ----------------------------------------------------------------------\n",
      " |  Methods inherited from ARMA:\n",
      " |  \n",
      " |  geterrors(self, params)\n",
      " |      Get the errors of the ARMA process.\n",
      " |      \n",
      " |      Parameters\n",
      " |      ----------\n",
      " |      params : array-like\n",
      " |          The fitted ARMA parameters\n",
      " |      order : array-like\n",
      " |          3 item iterable, with the number of AR, MA, and exogenous\n",
      " |          parameters, including the trend\n",
      " |  \n",
      " |  hessian(self, params)\n",
      " |      Compute the Hessian at params,\n",
      " |      \n",
      " |      Notes\n",
      " |      -----\n",
      " |      This is a numerical approximation.\n",
      " |  \n",
      " |  loglike(self, params, set_sigma2=True)\n",
      " |      Compute the log-likelihood for ARMA(p,q) model\n",
      " |      \n",
      " |      Notes\n",
      " |      -----\n",
      " |      Likelihood used depends on the method set in fit\n",
      " |  \n",
      " |  loglike_css(self, params, set_sigma2=True)\n",
      " |      Conditional Sum of Squares likelihood function.\n",
      " |  \n",
      " |  loglike_kalman(self, params, set_sigma2=True)\n",
      " |      Compute exact loglikelihood for ARMA(p,q) model by the Kalman Filter.\n",
      " |  \n",
      " |  score(self, params)\n",
      " |      Compute the score function at params.\n",
      " |      \n",
      " |      Notes\n",
      " |      -----\n",
      " |      This is a numerical approximation.\n",
      " |  \n",
      " |  ----------------------------------------------------------------------\n",
      " |  Class methods inherited from ARMA:\n",
      " |  \n",
      " |  from_formula(formula, data, subset=None, drop_cols=None, *args, **kwargs) from builtins.type\n",
      " |      Create a Model from a formula and dataframe.\n",
      " |      \n",
      " |      Parameters\n",
      " |      ----------\n",
      " |      formula : str or generic Formula object\n",
      " |          The formula specifying the model\n",
      " |      data : array-like\n",
      " |          The data for the model. See Notes.\n",
      " |      subset : array-like\n",
      " |          An array-like object of booleans, integers, or index values that\n",
      " |          indicate the subset of df to use in the model. Assumes df is a\n",
      " |          `pandas.DataFrame`\n",
      " |      drop_cols : array-like\n",
      " |          Columns to drop from the design matrix.  Cannot be used to\n",
      " |          drop terms involving categoricals.\n",
      " |      args : extra arguments\n",
      " |          These are passed to the model\n",
      " |      kwargs : extra keyword arguments\n",
      " |          These are passed to the model with one exception. The\n",
      " |          ``eval_env`` keyword is passed to patsy. It can be either a\n",
      " |          :class:`patsy:patsy.EvalEnvironment` object or an integer\n",
      " |          indicating the depth of the namespace to use. For example, the\n",
      " |          default ``eval_env=0`` uses the calling namespace. If you wish\n",
      " |          to use a \"clean\" environment set ``eval_env=-1``.\n",
      " |      \n",
      " |      Returns\n",
      " |      -------\n",
      " |      model : Model instance\n",
      " |      \n",
      " |      Notes\n",
      " |      ------\n",
      " |      data must define __getitem__ with the keys in the formula terms\n",
      " |      args and kwargs are passed on to the model instantiation. E.g.,\n",
      " |      a numpy structured or rec array, a dictionary, or a pandas DataFrame.\n",
      " |  \n",
      " |  ----------------------------------------------------------------------\n",
      " |  Data descriptors inherited from statsmodels.tsa.base.tsa_model.TimeSeriesModel:\n",
      " |  \n",
      " |  exog_names\n",
      " |  \n",
      " |  ----------------------------------------------------------------------\n",
      " |  Methods inherited from statsmodels.base.model.LikelihoodModel:\n",
      " |  \n",
      " |  information(self, params)\n",
      " |      Fisher information matrix of model\n",
      " |      \n",
      " |      Returns -Hessian of loglike evaluated at params.\n",
      " |  \n",
      " |  initialize(self)\n",
      " |      Initialize (possibly re-initialize) a Model instance. For\n",
      " |      instance, the design matrix of a linear model may change\n",
      " |      and some things must be recomputed.\n",
      " |  \n",
      " |  ----------------------------------------------------------------------\n",
      " |  Data descriptors inherited from statsmodels.base.model.Model:\n",
      " |  \n",
      " |  __dict__\n",
      " |      dictionary for instance variables (if defined)\n",
      " |  \n",
      " |  __weakref__\n",
      " |      list of weak references to the object (if defined)\n",
      " |  \n",
      " |  endog_names\n",
      " |      Names of endogenous variables\n",
      "\n"
     ]
    }
   ],
   "source": [
    "help(ARIMA)"
   ]
  },
  {
   "cell_type": "code",
   "execution_count": 115,
   "metadata": {},
   "outputs": [
    {
     "data": {
      "text/html": [
       "<table class=\"simpletable\">\n",
       "<caption>ARIMA Model Results</caption>\n",
       "<tr>\n",
       "  <th>Dep. Variable:</th>       <td>D.IIP</td>      <th>  No. Observations:  </th>   <td>211</td>  \n",
       "</tr>\n",
       "<tr>\n",
       "  <th>Model:</th>          <td>ARIMA(1, 1, 1)</td>  <th>  Log Likelihood     </th> <td>45.350</td> \n",
       "</tr>\n",
       "<tr>\n",
       "  <th>Method:</th>             <td>css-mle</td>     <th>  S.D. of innovations</th>  <td>0.192</td> \n",
       "</tr>\n",
       "<tr>\n",
       "  <th>Date:</th>          <td>Thu, 12 Mar 2020</td> <th>  AIC                </th> <td>-82.699</td>\n",
       "</tr>\n",
       "<tr>\n",
       "  <th>Time:</th>              <td>16:52:51</td>     <th>  BIC                </th> <td>-69.292</td>\n",
       "</tr>\n",
       "<tr>\n",
       "  <th>Sample:</th>                <td>1</td>        <th>  HQIC               </th> <td>-77.280</td>\n",
       "</tr>\n",
       "<tr>\n",
       "  <th></th>                       <td> </td>        <th>                     </th>    <td> </td>   \n",
       "</tr>\n",
       "</table>\n",
       "<table class=\"simpletable\">\n",
       "<tr>\n",
       "       <td></td>          <th>coef</th>     <th>std err</th>      <th>z</th>      <th>P>|z|</th>  <th>[0.025</th>    <th>0.975]</th>  \n",
       "</tr>\n",
       "<tr>\n",
       "  <th>const</th>       <td>   -0.0002</td> <td>    0.000</td> <td>   -1.266</td> <td> 0.207</td> <td>   -0.001</td> <td>    0.000</td>\n",
       "</tr>\n",
       "<tr>\n",
       "  <th>ar.L1.D.IIP</th> <td>   -0.3608</td> <td>    0.064</td> <td>   -5.626</td> <td> 0.000</td> <td>   -0.487</td> <td>   -0.235</td>\n",
       "</tr>\n",
       "<tr>\n",
       "  <th>ma.L1.D.IIP</th> <td>   -1.0000</td> <td>    0.012</td> <td>  -83.536</td> <td> 0.000</td> <td>   -1.023</td> <td>   -0.977</td>\n",
       "</tr>\n",
       "</table>\n",
       "<table class=\"simpletable\">\n",
       "<caption>Roots</caption>\n",
       "<tr>\n",
       "    <td></td>   <th>            Real</th>  <th>         Imaginary</th> <th>         Modulus</th>  <th>        Frequency</th>\n",
       "</tr>\n",
       "<tr>\n",
       "  <th>AR.1</th> <td>          -2.7713</td> <td>          +0.0000j</td> <td>           2.7713</td> <td>           0.5000</td>\n",
       "</tr>\n",
       "<tr>\n",
       "  <th>MA.1</th> <td>           1.0000</td> <td>          +0.0000j</td> <td>           1.0000</td> <td>           0.0000</td>\n",
       "</tr>\n",
       "</table>"
      ],
      "text/plain": [
       "<class 'statsmodels.iolib.summary.Summary'>\n",
       "\"\"\"\n",
       "                             ARIMA Model Results                              \n",
       "==============================================================================\n",
       "Dep. Variable:                  D.IIP   No. Observations:                  211\n",
       "Model:                 ARIMA(1, 1, 1)   Log Likelihood                  45.350\n",
       "Method:                       css-mle   S.D. of innovations              0.192\n",
       "Date:                Thu, 12 Mar 2020   AIC                            -82.699\n",
       "Time:                        16:52:51   BIC                            -69.292\n",
       "Sample:                             1   HQIC                           -77.280\n",
       "                                                                              \n",
       "===============================================================================\n",
       "                  coef    std err          z      P>|z|      [0.025      0.975]\n",
       "-------------------------------------------------------------------------------\n",
       "const          -0.0002      0.000     -1.266      0.207      -0.001       0.000\n",
       "ar.L1.D.IIP    -0.3608      0.064     -5.626      0.000      -0.487      -0.235\n",
       "ma.L1.D.IIP    -1.0000      0.012    -83.536      0.000      -1.023      -0.977\n",
       "                                    Roots                                    \n",
       "=============================================================================\n",
       "                  Real          Imaginary           Modulus         Frequency\n",
       "-----------------------------------------------------------------------------\n",
       "AR.1           -2.7713           +0.0000j            2.7713            0.5000\n",
       "MA.1            1.0000           +0.0000j            1.0000            0.0000\n",
       "-----------------------------------------------------------------------------\n",
       "\"\"\""
      ]
     },
     "execution_count": 115,
     "metadata": {},
     "output_type": "execute_result"
    }
   ],
   "source": [
    "model = ARIMA(df['IIP'],order=(1,1,1))\n",
    "result = model.fit()\n",
    "result.summary()"
   ]
  },
  {
   "cell_type": "code",
   "execution_count": 114,
   "metadata": {},
   "outputs": [
    {
     "data": {
      "text/html": [
       "<table class=\"simpletable\">\n",
       "<caption>ARIMA Model Results</caption>\n",
       "<tr>\n",
       "  <th>Dep. Variable:</th>       <td>D.IIP</td>      <th>  No. Observations:  </th>   <td>211</td>  \n",
       "</tr>\n",
       "<tr>\n",
       "  <th>Model:</th>          <td>ARIMA(2, 1, 1)</td>  <th>  Log Likelihood     </th> <td>45.386</td> \n",
       "</tr>\n",
       "<tr>\n",
       "  <th>Method:</th>             <td>css-mle</td>     <th>  S.D. of innovations</th>  <td>0.192</td> \n",
       "</tr>\n",
       "<tr>\n",
       "  <th>Date:</th>          <td>Thu, 12 Mar 2020</td> <th>  AIC                </th> <td>-80.772</td>\n",
       "</tr>\n",
       "<tr>\n",
       "  <th>Time:</th>              <td>16:51:43</td>     <th>  BIC                </th> <td>-64.013</td>\n",
       "</tr>\n",
       "<tr>\n",
       "  <th>Sample:</th>                <td>1</td>        <th>  HQIC               </th> <td>-73.997</td>\n",
       "</tr>\n",
       "<tr>\n",
       "  <th></th>                       <td> </td>        <th>                     </th>    <td> </td>   \n",
       "</tr>\n",
       "</table>\n",
       "<table class=\"simpletable\">\n",
       "<tr>\n",
       "       <td></td>          <th>coef</th>     <th>std err</th>      <th>z</th>      <th>P>|z|</th>  <th>[0.025</th>    <th>0.975]</th>  \n",
       "</tr>\n",
       "<tr>\n",
       "  <th>const</th>       <td>   -0.0002</td> <td>    0.000</td> <td>   -1.294</td> <td> 0.197</td> <td>   -0.001</td> <td>    0.000</td>\n",
       "</tr>\n",
       "<tr>\n",
       "  <th>ar.L1.D.IIP</th> <td>   -0.3678</td> <td>    0.069</td> <td>   -5.318</td> <td> 0.000</td> <td>   -0.503</td> <td>   -0.232</td>\n",
       "</tr>\n",
       "<tr>\n",
       "  <th>ar.L2.D.IIP</th> <td>   -0.0186</td> <td>    0.069</td> <td>   -0.270</td> <td> 0.788</td> <td>   -0.154</td> <td>    0.117</td>\n",
       "</tr>\n",
       "<tr>\n",
       "  <th>ma.L1.D.IIP</th> <td>   -1.0000</td> <td>    0.012</td> <td>  -83.431</td> <td> 0.000</td> <td>   -1.023</td> <td>   -0.977</td>\n",
       "</tr>\n",
       "</table>\n",
       "<table class=\"simpletable\">\n",
       "<caption>Roots</caption>\n",
       "<tr>\n",
       "    <td></td>   <th>            Real</th>  <th>         Imaginary</th> <th>         Modulus</th>  <th>        Frequency</th>\n",
       "</tr>\n",
       "<tr>\n",
       "  <th>AR.1</th> <td>          -3.2556</td> <td>          +0.0000j</td> <td>           3.2556</td> <td>           0.5000</td>\n",
       "</tr>\n",
       "<tr>\n",
       "  <th>AR.2</th> <td>         -16.4830</td> <td>          +0.0000j</td> <td>          16.4830</td> <td>           0.5000</td>\n",
       "</tr>\n",
       "<tr>\n",
       "  <th>MA.1</th> <td>           1.0000</td> <td>          +0.0000j</td> <td>           1.0000</td> <td>           0.0000</td>\n",
       "</tr>\n",
       "</table>"
      ],
      "text/plain": [
       "<class 'statsmodels.iolib.summary.Summary'>\n",
       "\"\"\"\n",
       "                             ARIMA Model Results                              \n",
       "==============================================================================\n",
       "Dep. Variable:                  D.IIP   No. Observations:                  211\n",
       "Model:                 ARIMA(2, 1, 1)   Log Likelihood                  45.386\n",
       "Method:                       css-mle   S.D. of innovations              0.192\n",
       "Date:                Thu, 12 Mar 2020   AIC                            -80.772\n",
       "Time:                        16:51:43   BIC                            -64.013\n",
       "Sample:                             1   HQIC                           -73.997\n",
       "                                                                              \n",
       "===============================================================================\n",
       "                  coef    std err          z      P>|z|      [0.025      0.975]\n",
       "-------------------------------------------------------------------------------\n",
       "const          -0.0002      0.000     -1.294      0.197      -0.001       0.000\n",
       "ar.L1.D.IIP    -0.3678      0.069     -5.318      0.000      -0.503      -0.232\n",
       "ar.L2.D.IIP    -0.0186      0.069     -0.270      0.788      -0.154       0.117\n",
       "ma.L1.D.IIP    -1.0000      0.012    -83.431      0.000      -1.023      -0.977\n",
       "                                    Roots                                    \n",
       "=============================================================================\n",
       "                  Real          Imaginary           Modulus         Frequency\n",
       "-----------------------------------------------------------------------------\n",
       "AR.1           -3.2556           +0.0000j            3.2556            0.5000\n",
       "AR.2          -16.4830           +0.0000j           16.4830            0.5000\n",
       "MA.1            1.0000           +0.0000j            1.0000            0.0000\n",
       "-----------------------------------------------------------------------------\n",
       "\"\"\""
      ]
     },
     "execution_count": 114,
     "metadata": {},
     "output_type": "execute_result"
    }
   ],
   "source": [
    "model = ARIMA(df['IIP'],order=(2,1,1))\n",
    "result = model.fit()\n",
    "result.summary()"
   ]
  },
  {
   "cell_type": "code",
   "execution_count": 116,
   "metadata": {},
   "outputs": [
    {
     "data": {
      "text/html": [
       "<table class=\"simpletable\">\n",
       "<caption>ARIMA Model Results</caption>\n",
       "<tr>\n",
       "  <th>Dep. Variable:</th>       <td>D.IIP</td>      <th>  No. Observations:  </th>   <td>211</td>  \n",
       "</tr>\n",
       "<tr>\n",
       "  <th>Model:</th>          <td>ARIMA(2, 1, 1)</td>  <th>  Log Likelihood     </th> <td>45.386</td> \n",
       "</tr>\n",
       "<tr>\n",
       "  <th>Method:</th>             <td>css-mle</td>     <th>  S.D. of innovations</th>  <td>0.192</td> \n",
       "</tr>\n",
       "<tr>\n",
       "  <th>Date:</th>          <td>Thu, 12 Mar 2020</td> <th>  AIC                </th> <td>-80.772</td>\n",
       "</tr>\n",
       "<tr>\n",
       "  <th>Time:</th>              <td>16:52:56</td>     <th>  BIC                </th> <td>-64.013</td>\n",
       "</tr>\n",
       "<tr>\n",
       "  <th>Sample:</th>                <td>1</td>        <th>  HQIC               </th> <td>-73.997</td>\n",
       "</tr>\n",
       "<tr>\n",
       "  <th></th>                       <td> </td>        <th>                     </th>    <td> </td>   \n",
       "</tr>\n",
       "</table>\n",
       "<table class=\"simpletable\">\n",
       "<tr>\n",
       "       <td></td>          <th>coef</th>     <th>std err</th>      <th>z</th>      <th>P>|z|</th>  <th>[0.025</th>    <th>0.975]</th>  \n",
       "</tr>\n",
       "<tr>\n",
       "  <th>const</th>       <td>   -0.0002</td> <td>    0.000</td> <td>   -1.294</td> <td> 0.197</td> <td>   -0.001</td> <td>    0.000</td>\n",
       "</tr>\n",
       "<tr>\n",
       "  <th>ar.L1.D.IIP</th> <td>   -0.3678</td> <td>    0.069</td> <td>   -5.318</td> <td> 0.000</td> <td>   -0.503</td> <td>   -0.232</td>\n",
       "</tr>\n",
       "<tr>\n",
       "  <th>ar.L2.D.IIP</th> <td>   -0.0186</td> <td>    0.069</td> <td>   -0.270</td> <td> 0.788</td> <td>   -0.154</td> <td>    0.117</td>\n",
       "</tr>\n",
       "<tr>\n",
       "  <th>ma.L1.D.IIP</th> <td>   -1.0000</td> <td>    0.012</td> <td>  -83.431</td> <td> 0.000</td> <td>   -1.023</td> <td>   -0.977</td>\n",
       "</tr>\n",
       "</table>\n",
       "<table class=\"simpletable\">\n",
       "<caption>Roots</caption>\n",
       "<tr>\n",
       "    <td></td>   <th>            Real</th>  <th>         Imaginary</th> <th>         Modulus</th>  <th>        Frequency</th>\n",
       "</tr>\n",
       "<tr>\n",
       "  <th>AR.1</th> <td>          -3.2556</td> <td>          +0.0000j</td> <td>           3.2556</td> <td>           0.5000</td>\n",
       "</tr>\n",
       "<tr>\n",
       "  <th>AR.2</th> <td>         -16.4830</td> <td>          +0.0000j</td> <td>          16.4830</td> <td>           0.5000</td>\n",
       "</tr>\n",
       "<tr>\n",
       "  <th>MA.1</th> <td>           1.0000</td> <td>          +0.0000j</td> <td>           1.0000</td> <td>           0.0000</td>\n",
       "</tr>\n",
       "</table>"
      ],
      "text/plain": [
       "<class 'statsmodels.iolib.summary.Summary'>\n",
       "\"\"\"\n",
       "                             ARIMA Model Results                              \n",
       "==============================================================================\n",
       "Dep. Variable:                  D.IIP   No. Observations:                  211\n",
       "Model:                 ARIMA(2, 1, 1)   Log Likelihood                  45.386\n",
       "Method:                       css-mle   S.D. of innovations              0.192\n",
       "Date:                Thu, 12 Mar 2020   AIC                            -80.772\n",
       "Time:                        16:52:56   BIC                            -64.013\n",
       "Sample:                             1   HQIC                           -73.997\n",
       "                                                                              \n",
       "===============================================================================\n",
       "                  coef    std err          z      P>|z|      [0.025      0.975]\n",
       "-------------------------------------------------------------------------------\n",
       "const          -0.0002      0.000     -1.294      0.197      -0.001       0.000\n",
       "ar.L1.D.IIP    -0.3678      0.069     -5.318      0.000      -0.503      -0.232\n",
       "ar.L2.D.IIP    -0.0186      0.069     -0.270      0.788      -0.154       0.117\n",
       "ma.L1.D.IIP    -1.0000      0.012    -83.431      0.000      -1.023      -0.977\n",
       "                                    Roots                                    \n",
       "=============================================================================\n",
       "                  Real          Imaginary           Modulus         Frequency\n",
       "-----------------------------------------------------------------------------\n",
       "AR.1           -3.2556           +0.0000j            3.2556            0.5000\n",
       "AR.2          -16.4830           +0.0000j           16.4830            0.5000\n",
       "MA.1            1.0000           +0.0000j            1.0000            0.0000\n",
       "-----------------------------------------------------------------------------\n",
       "\"\"\""
      ]
     },
     "execution_count": 116,
     "metadata": {},
     "output_type": "execute_result"
    }
   ],
   "source": [
    "model = ARIMA(df['IIP'],order=(2,1,1))\n",
    "result = model.fit()\n",
    "result.summary()"
   ]
  },
  {
   "cell_type": "code",
   "execution_count": 62,
   "metadata": {},
   "outputs": [
    {
     "data": {
      "text/plain": [
       "<matplotlib.axes._subplots.AxesSubplot at 0x25bd9437e80>"
      ]
     },
     "execution_count": 62,
     "metadata": {},
     "output_type": "execute_result"
    },
    {
     "data": {
      "image/png": "[encoded data removed]",
      "text/plain": [
       "<Figure size 432x288 with 1 Axes>"
      ]
     },
     "metadata": {},
     "output_type": "display_data"
    }
   ],
   "source": [
    "df['BMS'].plot()"
   ]
  },
  {
   "cell_type": "code",
   "execution_count": 58,
   "metadata": {},
   "outputs": [
    {
     "data": {
      "text/plain": [
       "Index(['Year', 'MAC', 'TUR', 'BMS', 'EXP', 'IMP', 'GDP', 'IIP', 'First IIP'], dtype='object')"
      ]
     },
     "execution_count": 58,
     "metadata": {},
     "output_type": "execute_result"
    }
   ],
   "source": [
    "df.columns"
   ]
  },
  {
   "cell_type": "code",
   "execution_count": 64,
   "metadata": {},
   "outputs": [
    {
     "data": {
      "text/plain": [
       "(-1.4156587702172672,\n",
       " 0.5747465124288732,\n",
       " 12,\n",
       " 199,\n",
       " {'1%': -3.4636447617687436,\n",
       "  '5%': -2.8761761179270766,\n",
       "  '10%': -2.57457158581854},\n",
       " -1628.1456212096527)"
      ]
     },
     "execution_count": 64,
     "metadata": {},
     "output_type": "execute_result"
    }
   ],
   "source": [
    "result = adfuller(df['BMS'])\n",
    "result"
   ]
  },
  {
   "cell_type": "code",
   "execution_count": 66,
   "metadata": {},
   "outputs": [
    {
     "data": {
      "text/plain": [
       "<matplotlib.axes._subplots.AxesSubplot at 0x25bdbd13630>"
      ]
     },
     "execution_count": 66,
     "metadata": {},
     "output_type": "execute_result"
    },
    {
     "data": {
      "image/png": "[encoded data removed]",
      "text/plain": [
       "<Figure size 432x288 with 1 Axes>"
      ]
     },
     "metadata": {},
     "output_type": "display_data"
    }
   ],
   "source": [
    "df['First BMS'] = df['BMS'] - df['BMS'].shift(1)\n",
    "df['First BMS'].plot()"
   ]
  },
  {
   "cell_type": "code",
   "execution_count": 68,
   "metadata": {},
   "outputs": [
    {
     "data": {
      "text/plain": [
       "(-2.384265331136554,\n",
       " 0.14622673852276963,\n",
       " 11,\n",
       " 199,\n",
       " {'1%': -3.4636447617687436,\n",
       "  '5%': -2.8761761179270766,\n",
       "  '10%': -2.57457158581854},\n",
       " -1618.3667402827684)"
      ]
     },
     "execution_count": 68,
     "metadata": {},
     "output_type": "execute_result"
    }
   ],
   "source": [
    "result = adfuller(df['First BMS'].dropna())\n",
    "result"
   ]
  },
  {
   "cell_type": "code",
   "execution_count": 69,
   "metadata": {},
   "outputs": [
    {
     "data": {
      "text/plain": [
       "<matplotlib.axes._subplots.AxesSubplot at 0x25bdbd2bda0>"
      ]
     },
     "execution_count": 69,
     "metadata": {},
     "output_type": "execute_result"
    },
    {
     "data": {
      "image/png": "[encoded data removed]",
      "text/plain": [
       "<Figure size 432x288 with 1 Axes>"
      ]
     },
     "metadata": {},
     "output_type": "display_data"
    }
   ],
   "source": [
    "df['Second BMS'] = df['First BMS'] - df['First BMS'].shift(1)\n",
    "df['Second BMS'].plot()"
   ]
  },
  {
   "cell_type": "code",
   "execution_count": 70,
   "metadata": {},
   "outputs": [
    {
     "data": {
      "text/plain": [
       "(-12.725535300855263,\n",
       " 9.620304867309601e-24,\n",
       " 10,\n",
       " 199,\n",
       " {'1%': -3.4636447617687436,\n",
       "  '5%': -2.8761761179270766,\n",
       "  '10%': -2.57457158581854},\n",
       " -1604.278857987422)"
      ]
     },
     "execution_count": 70,
     "metadata": {},
     "output_type": "execute_result"
    }
   ],
   "source": [
    "result = adfuller(df['Second BMS'].dropna())\n",
    "result"
   ]
  },
  {
   "cell_type": "code",
   "execution_count": 71,
   "metadata": {},
   "outputs": [
    {
     "data": {
      "image/png": "[encoded data removed]",
      "text/plain": [
       "<Figure size 432x288 with 1 Axes>"
      ]
     },
     "metadata": {},
     "output_type": "display_data"
    }
   ],
   "source": [
    "fig_first = plot_acf(df['Second BMS'].dropna())"
   ]
  },
  {
   "cell_type": "code",
   "execution_count": 72,
   "metadata": {},
   "outputs": [
    {
     "data": {
      "image/png": "[encoded data removed]",
      "text/plain": [
       "<Figure size 432x288 with 1 Axes>"
      ]
     },
     "metadata": {},
     "output_type": "display_data"
    }
   ],
   "source": [
    "fig_first = plot_pacf(df['Second BMS'].dropna(), method='ywmle')"
   ]
  },
  {
   "cell_type": "code",
   "execution_count": 74,
   "metadata": {},
   "outputs": [
    {
     "data": {
      "image/png": "[encoded data removed]",
      "text/plain": [
       "<Figure size 864x576 with 2 Axes>"
      ]
     },
     "metadata": {},
     "output_type": "display_data"
    }
   ],
   "source": [
    "fig = plt.figure(figsize=(12,8))\n",
    "ax1 = fig.add_subplot(211)\n",
    "fig = plot_acf(df['Second BMS'].dropna(), lags=40, ax=ax1)\n",
    "ax2 = fig.add_subplot(212)\n",
    "fig = plot_pacf(df['Second BMS'].dropna(), method='ywmle', lags=40, ax=ax2)"
   ]
  },
  {
   "cell_type": "code",
   "execution_count": 87,
   "metadata": {},
   "outputs": [
    {
     "data": {
      "text/html": [
       "<table class=\"simpletable\">\n",
       "<caption>ARIMA Model Results</caption>\n",
       "<tr>\n",
       "  <th>Dep. Variable:</th>      <td>D2.BMS</td>      <th>  No. Observations:  </th>    <td>210</td>   \n",
       "</tr>\n",
       "<tr>\n",
       "  <th>Model:</th>          <td>ARIMA(1, 2, 5)</td>  <th>  Log Likelihood     </th>  <td>839.937</td> \n",
       "</tr>\n",
       "<tr>\n",
       "  <th>Method:</th>             <td>css-mle</td>     <th>  S.D. of innovations</th>   <td>0.004</td>  \n",
       "</tr>\n",
       "<tr>\n",
       "  <th>Date:</th>          <td>Thu, 12 Mar 2020</td> <th>  AIC                </th> <td>-1663.874</td>\n",
       "</tr>\n",
       "<tr>\n",
       "  <th>Time:</th>              <td>16:32:59</td>     <th>  BIC                </th> <td>-1637.097</td>\n",
       "</tr>\n",
       "<tr>\n",
       "  <th>Sample:</th>                <td>2</td>        <th>  HQIC               </th> <td>-1653.049</td>\n",
       "</tr>\n",
       "<tr>\n",
       "  <th></th>                       <td> </td>        <th>                     </th>     <td> </td>    \n",
       "</tr>\n",
       "</table>\n",
       "<table class=\"simpletable\">\n",
       "<tr>\n",
       "        <td></td>          <th>coef</th>     <th>std err</th>      <th>z</th>      <th>P>|z|</th>  <th>[0.025</th>    <th>0.975]</th>  \n",
       "</tr>\n",
       "<tr>\n",
       "  <th>const</th>        <td> 3.738e-06</td> <td> 2.56e-05</td> <td>    0.146</td> <td> 0.884</td> <td>-4.65e-05</td> <td> 5.39e-05</td>\n",
       "</tr>\n",
       "<tr>\n",
       "  <th>ar.L1.D2.BMS</th> <td>   -0.0001</td> <td>    0.286</td> <td>   -0.000</td> <td> 1.000</td> <td>   -0.561</td> <td>    0.561</td>\n",
       "</tr>\n",
       "<tr>\n",
       "  <th>ma.L1.D2.BMS</th> <td>   -1.0356</td> <td>    0.275</td> <td>   -3.768</td> <td> 0.000</td> <td>   -1.574</td> <td>   -0.497</td>\n",
       "</tr>\n",
       "<tr>\n",
       "  <th>ma.L2.D2.BMS</th> <td>    0.0320</td> <td>    0.290</td> <td>    0.110</td> <td> 0.912</td> <td>   -0.537</td> <td>    0.601</td>\n",
       "</tr>\n",
       "<tr>\n",
       "  <th>ma.L3.D2.BMS</th> <td>   -0.1576</td> <td>    0.091</td> <td>   -1.736</td> <td> 0.084</td> <td>   -0.335</td> <td>    0.020</td>\n",
       "</tr>\n",
       "<tr>\n",
       "  <th>ma.L4.D2.BMS</th> <td>    0.0409</td> <td>    0.083</td> <td>    0.491</td> <td> 0.624</td> <td>   -0.122</td> <td>    0.204</td>\n",
       "</tr>\n",
       "<tr>\n",
       "  <th>ma.L5.D2.BMS</th> <td>    0.2030</td> <td>    0.076</td> <td>    2.655</td> <td> 0.009</td> <td>    0.053</td> <td>    0.353</td>\n",
       "</tr>\n",
       "</table>\n",
       "<table class=\"simpletable\">\n",
       "<caption>Roots</caption>\n",
       "<tr>\n",
       "    <td></td>   <th>            Real</th>  <th>         Imaginary</th> <th>         Modulus</th>  <th>        Frequency</th>\n",
       "</tr>\n",
       "<tr>\n",
       "  <th>AR.1</th> <td>       -7686.5167</td> <td>          +0.0000j</td> <td>        7686.5167</td> <td>           0.5000</td>\n",
       "</tr>\n",
       "<tr>\n",
       "  <th>MA.1</th> <td>           1.0815</td> <td>          -0.1782j</td> <td>           1.0961</td> <td>          -0.0260</td>\n",
       "</tr>\n",
       "<tr>\n",
       "  <th>MA.2</th> <td>           1.0815</td> <td>          +0.1782j</td> <td>           1.0961</td> <td>           0.0260</td>\n",
       "</tr>\n",
       "<tr>\n",
       "  <th>MA.3</th> <td>          -0.2509</td> <td>          -1.4625j</td> <td>           1.4838</td> <td>          -0.2770</td>\n",
       "</tr>\n",
       "<tr>\n",
       "  <th>MA.4</th> <td>          -0.2509</td> <td>          +1.4625j</td> <td>           1.4838</td> <td>           0.2770</td>\n",
       "</tr>\n",
       "<tr>\n",
       "  <th>MA.5</th> <td>          -1.8625</td> <td>          -0.0000j</td> <td>           1.8625</td> <td>          -0.5000</td>\n",
       "</tr>\n",
       "</table>"
      ],
      "text/plain": [
       "<class 'statsmodels.iolib.summary.Summary'>\n",
       "\"\"\"\n",
       "                             ARIMA Model Results                              \n",
       "==============================================================================\n",
       "Dep. Variable:                 D2.BMS   No. Observations:                  210\n",
       "Model:                 ARIMA(1, 2, 5)   Log Likelihood                 839.937\n",
       "Method:                       css-mle   S.D. of innovations              0.004\n",
       "Date:                Thu, 12 Mar 2020   AIC                          -1663.874\n",
       "Time:                        16:32:59   BIC                          -1637.097\n",
       "Sample:                             2   HQIC                         -1653.049\n",
       "                                                                              \n",
       "================================================================================\n",
       "                   coef    std err          z      P>|z|      [0.025      0.975]\n",
       "--------------------------------------------------------------------------------\n",
       "const         3.738e-06   2.56e-05      0.146      0.884   -4.65e-05    5.39e-05\n",
       "ar.L1.D2.BMS    -0.0001      0.286     -0.000      1.000      -0.561       0.561\n",
       "ma.L1.D2.BMS    -1.0356      0.275     -3.768      0.000      -1.574      -0.497\n",
       "ma.L2.D2.BMS     0.0320      0.290      0.110      0.912      -0.537       0.601\n",
       "ma.L3.D2.BMS    -0.1576      0.091     -1.736      0.084      -0.335       0.020\n",
       "ma.L4.D2.BMS     0.0409      0.083      0.491      0.624      -0.122       0.204\n",
       "ma.L5.D2.BMS     0.2030      0.076      2.655      0.009       0.053       0.353\n",
       "                                    Roots                                    \n",
       "=============================================================================\n",
       "                  Real          Imaginary           Modulus         Frequency\n",
       "-----------------------------------------------------------------------------\n",
       "AR.1        -7686.5167           +0.0000j         7686.5167            0.5000\n",
       "MA.1            1.0815           -0.1782j            1.0961           -0.0260\n",
       "MA.2            1.0815           +0.1782j            1.0961            0.0260\n",
       "MA.3           -0.2509           -1.4625j            1.4838           -0.2770\n",
       "MA.4           -0.2509           +1.4625j            1.4838            0.2770\n",
       "MA.5           -1.8625           -0.0000j            1.8625           -0.5000\n",
       "-----------------------------------------------------------------------------\n",
       "\"\"\""
      ]
     },
     "execution_count": 87,
     "metadata": {},
     "output_type": "execute_result"
    }
   ],
   "source": [
    "model = ARIMA(df['BMS'].dropna(),order=(1,2,5))\n",
    "result = model.fit()\n",
    "result.summary()"
   ]
  },
  {
   "cell_type": "code",
   "execution_count": 88,
   "metadata": {},
   "outputs": [
    {
     "data": {
      "text/html": [
       "<table class=\"simpletable\">\n",
       "<caption>ARIMA Model Results</caption>\n",
       "<tr>\n",
       "  <th>Dep. Variable:</th>      <td>D2.BMS</td>      <th>  No. Observations:  </th>    <td>210</td>   \n",
       "</tr>\n",
       "<tr>\n",
       "  <th>Model:</th>          <td>ARIMA(1, 2, 1)</td>  <th>  Log Likelihood     </th>  <td>832.916</td> \n",
       "</tr>\n",
       "<tr>\n",
       "  <th>Method:</th>             <td>css-mle</td>     <th>  S.D. of innovations</th>   <td>0.005</td>  \n",
       "</tr>\n",
       "<tr>\n",
       "  <th>Date:</th>          <td>Thu, 12 Mar 2020</td> <th>  AIC                </th> <td>-1657.831</td>\n",
       "</tr>\n",
       "<tr>\n",
       "  <th>Time:</th>              <td>16:33:16</td>     <th>  BIC                </th> <td>-1644.443</td>\n",
       "</tr>\n",
       "<tr>\n",
       "  <th>Sample:</th>                <td>2</td>        <th>  HQIC               </th> <td>-1652.419</td>\n",
       "</tr>\n",
       "<tr>\n",
       "  <th></th>                       <td> </td>        <th>                     </th>     <td> </td>    \n",
       "</tr>\n",
       "</table>\n",
       "<table class=\"simpletable\">\n",
       "<tr>\n",
       "        <td></td>          <th>coef</th>     <th>std err</th>      <th>z</th>      <th>P>|z|</th>  <th>[0.025</th>    <th>0.975]</th>  \n",
       "</tr>\n",
       "<tr>\n",
       "  <th>const</th>        <td>-2.125e-06</td> <td> 5.22e-06</td> <td>   -0.407</td> <td> 0.684</td> <td>-1.24e-05</td> <td> 8.11e-06</td>\n",
       "</tr>\n",
       "<tr>\n",
       "  <th>ar.L1.D2.BMS</th> <td>    0.0202</td> <td>    0.069</td> <td>    0.291</td> <td> 0.772</td> <td>   -0.116</td> <td>    0.156</td>\n",
       "</tr>\n",
       "<tr>\n",
       "  <th>ma.L1.D2.BMS</th> <td>   -1.0000</td> <td>    0.018</td> <td>  -54.161</td> <td> 0.000</td> <td>   -1.036</td> <td>   -0.964</td>\n",
       "</tr>\n",
       "</table>\n",
       "<table class=\"simpletable\">\n",
       "<caption>Roots</caption>\n",
       "<tr>\n",
       "    <td></td>   <th>            Real</th>  <th>         Imaginary</th> <th>         Modulus</th>  <th>        Frequency</th>\n",
       "</tr>\n",
       "<tr>\n",
       "  <th>AR.1</th> <td>          49.5333</td> <td>          +0.0000j</td> <td>          49.5333</td> <td>           0.0000</td>\n",
       "</tr>\n",
       "<tr>\n",
       "  <th>MA.1</th> <td>           1.0000</td> <td>          +0.0000j</td> <td>           1.0000</td> <td>           0.0000</td>\n",
       "</tr>\n",
       "</table>"
      ],
      "text/plain": [
       "<class 'statsmodels.iolib.summary.Summary'>\n",
       "\"\"\"\n",
       "                             ARIMA Model Results                              \n",
       "==============================================================================\n",
       "Dep. Variable:                 D2.BMS   No. Observations:                  210\n",
       "Model:                 ARIMA(1, 2, 1)   Log Likelihood                 832.916\n",
       "Method:                       css-mle   S.D. of innovations              0.005\n",
       "Date:                Thu, 12 Mar 2020   AIC                          -1657.831\n",
       "Time:                        16:33:16   BIC                          -1644.443\n",
       "Sample:                             2   HQIC                         -1652.419\n",
       "                                                                              \n",
       "================================================================================\n",
       "                   coef    std err          z      P>|z|      [0.025      0.975]\n",
       "--------------------------------------------------------------------------------\n",
       "const        -2.125e-06   5.22e-06     -0.407      0.684   -1.24e-05    8.11e-06\n",
       "ar.L1.D2.BMS     0.0202      0.069      0.291      0.772      -0.116       0.156\n",
       "ma.L1.D2.BMS    -1.0000      0.018    -54.161      0.000      -1.036      -0.964\n",
       "                                    Roots                                    \n",
       "=============================================================================\n",
       "                  Real          Imaginary           Modulus         Frequency\n",
       "-----------------------------------------------------------------------------\n",
       "AR.1           49.5333           +0.0000j           49.5333            0.0000\n",
       "MA.1            1.0000           +0.0000j            1.0000            0.0000\n",
       "-----------------------------------------------------------------------------\n",
       "\"\"\""
      ]
     },
     "execution_count": 88,
     "metadata": {},
     "output_type": "execute_result"
    }
   ],
   "source": [
    "model = ARIMA(df['BMS'].dropna(),order=(1,2,1))\n",
    "result = model.fit()\n",
    "result.summary()"
   ]
  },
  {
   "cell_type": "code",
   "execution_count": 90,
   "metadata": {},
   "outputs": [
    {
     "data": {
      "text/html": [
       "<table class=\"simpletable\">\n",
       "<caption>ARIMA Model Results</caption>\n",
       "<tr>\n",
       "  <th>Dep. Variable:</th>      <td>D2.BMS</td>      <th>  No. Observations:  </th>    <td>210</td>   \n",
       "</tr>\n",
       "<tr>\n",
       "  <th>Model:</th>          <td>ARIMA(2, 2, 1)</td>  <th>  Log Likelihood     </th>  <td>832.799</td> \n",
       "</tr>\n",
       "<tr>\n",
       "  <th>Method:</th>             <td>css-mle</td>     <th>  S.D. of innovations</th>   <td>0.005</td>  \n",
       "</tr>\n",
       "<tr>\n",
       "  <th>Date:</th>          <td>Thu, 12 Mar 2020</td> <th>  AIC                </th> <td>-1655.597</td>\n",
       "</tr>\n",
       "<tr>\n",
       "  <th>Time:</th>              <td>16:33:31</td>     <th>  BIC                </th> <td>-1638.862</td>\n",
       "</tr>\n",
       "<tr>\n",
       "  <th>Sample:</th>                <td>2</td>        <th>  HQIC               </th> <td>-1648.832</td>\n",
       "</tr>\n",
       "<tr>\n",
       "  <th></th>                       <td> </td>        <th>                     </th>     <td> </td>    \n",
       "</tr>\n",
       "</table>\n",
       "<table class=\"simpletable\">\n",
       "<tr>\n",
       "        <td></td>          <th>coef</th>     <th>std err</th>      <th>z</th>      <th>P>|z|</th>  <th>[0.025</th>    <th>0.975]</th>  \n",
       "</tr>\n",
       "<tr>\n",
       "  <th>const</th>        <td>-1.843e-06</td> <td> 6.85e-06</td> <td>   -0.269</td> <td> 0.788</td> <td>-1.53e-05</td> <td> 1.16e-05</td>\n",
       "</tr>\n",
       "<tr>\n",
       "  <th>ar.L1.D2.BMS</th> <td>    0.0435</td> <td>    0.073</td> <td>    0.598</td> <td> 0.551</td> <td>   -0.099</td> <td>    0.186</td>\n",
       "</tr>\n",
       "<tr>\n",
       "  <th>ar.L2.D2.BMS</th> <td>   -0.0210</td> <td>    0.072</td> <td>   -0.292</td> <td> 0.771</td> <td>   -0.162</td> <td>    0.120</td>\n",
       "</tr>\n",
       "<tr>\n",
       "  <th>ma.L1.D2.BMS</th> <td>   -0.9897</td> <td>    0.053</td> <td>  -18.687</td> <td> 0.000</td> <td>   -1.093</td> <td>   -0.886</td>\n",
       "</tr>\n",
       "</table>\n",
       "<table class=\"simpletable\">\n",
       "<caption>Roots</caption>\n",
       "<tr>\n",
       "    <td></td>   <th>            Real</th>  <th>         Imaginary</th> <th>         Modulus</th>  <th>        Frequency</th>\n",
       "</tr>\n",
       "<tr>\n",
       "  <th>AR.1</th> <td>           1.0328</td> <td>          -6.8155j</td> <td>           6.8933</td> <td>          -0.2261</td>\n",
       "</tr>\n",
       "<tr>\n",
       "  <th>AR.2</th> <td>           1.0328</td> <td>          +6.8155j</td> <td>           6.8933</td> <td>           0.2261</td>\n",
       "</tr>\n",
       "<tr>\n",
       "  <th>MA.1</th> <td>           1.0104</td> <td>          +0.0000j</td> <td>           1.0104</td> <td>           0.0000</td>\n",
       "</tr>\n",
       "</table>"
      ],
      "text/plain": [
       "<class 'statsmodels.iolib.summary.Summary'>\n",
       "\"\"\"\n",
       "                             ARIMA Model Results                              \n",
       "==============================================================================\n",
       "Dep. Variable:                 D2.BMS   No. Observations:                  210\n",
       "Model:                 ARIMA(2, 2, 1)   Log Likelihood                 832.799\n",
       "Method:                       css-mle   S.D. of innovations              0.005\n",
       "Date:                Thu, 12 Mar 2020   AIC                          -1655.597\n",
       "Time:                        16:33:31   BIC                          -1638.862\n",
       "Sample:                             2   HQIC                         -1648.832\n",
       "                                                                              \n",
       "================================================================================\n",
       "                   coef    std err          z      P>|z|      [0.025      0.975]\n",
       "--------------------------------------------------------------------------------\n",
       "const        -1.843e-06   6.85e-06     -0.269      0.788   -1.53e-05    1.16e-05\n",
       "ar.L1.D2.BMS     0.0435      0.073      0.598      0.551      -0.099       0.186\n",
       "ar.L2.D2.BMS    -0.0210      0.072     -0.292      0.771      -0.162       0.120\n",
       "ma.L1.D2.BMS    -0.9897      0.053    -18.687      0.000      -1.093      -0.886\n",
       "                                    Roots                                    \n",
       "=============================================================================\n",
       "                  Real          Imaginary           Modulus         Frequency\n",
       "-----------------------------------------------------------------------------\n",
       "AR.1            1.0328           -6.8155j            6.8933           -0.2261\n",
       "AR.2            1.0328           +6.8155j            6.8933            0.2261\n",
       "MA.1            1.0104           +0.0000j            1.0104            0.0000\n",
       "-----------------------------------------------------------------------------\n",
       "\"\"\""
      ]
     },
     "execution_count": 90,
     "metadata": {},
     "output_type": "execute_result"
    }
   ],
   "source": [
    "model = ARIMA(df['BMS'].dropna(),order=(2,2,1))\n",
    "result = model.fit()\n",
    "result.summary()"
   ]
  },
  {
   "cell_type": "code",
   "execution_count": 93,
   "metadata": {},
   "outputs": [
    {
     "data": {
      "text/html": [
       "<table class=\"simpletable\">\n",
       "<caption>ARIMA Model Results</caption>\n",
       "<tr>\n",
       "  <th>Dep. Variable:</th>      <td>D2.BMS</td>      <th>  No. Observations:  </th>    <td>210</td>   \n",
       "</tr>\n",
       "<tr>\n",
       "  <th>Model:</th>          <td>ARIMA(3, 2, 2)</td>  <th>  Log Likelihood     </th>  <td>837.013</td> \n",
       "</tr>\n",
       "<tr>\n",
       "  <th>Method:</th>             <td>css-mle</td>     <th>  S.D. of innovations</th>   <td>0.004</td>  \n",
       "</tr>\n",
       "<tr>\n",
       "  <th>Date:</th>          <td>Thu, 12 Mar 2020</td> <th>  AIC                </th> <td>-1660.026</td>\n",
       "</tr>\n",
       "<tr>\n",
       "  <th>Time:</th>              <td>16:34:23</td>     <th>  BIC                </th> <td>-1636.596</td>\n",
       "</tr>\n",
       "<tr>\n",
       "  <th>Sample:</th>                <td>2</td>        <th>  HQIC               </th> <td>-1650.554</td>\n",
       "</tr>\n",
       "<tr>\n",
       "  <th></th>                       <td> </td>        <th>                     </th>     <td> </td>    \n",
       "</tr>\n",
       "</table>\n",
       "<table class=\"simpletable\">\n",
       "<tr>\n",
       "        <td></td>          <th>coef</th>     <th>std err</th>      <th>z</th>      <th>P>|z|</th>  <th>[0.025</th>    <th>0.975]</th>  \n",
       "</tr>\n",
       "<tr>\n",
       "  <th>const</th>        <td>-2.301e-06</td> <td> 4.78e-06</td> <td>   -0.482</td> <td> 0.631</td> <td>-1.17e-05</td> <td> 7.07e-06</td>\n",
       "</tr>\n",
       "<tr>\n",
       "  <th>ar.L1.D2.BMS</th> <td>   -0.7970</td> <td>    0.173</td> <td>   -4.608</td> <td> 0.000</td> <td>   -1.136</td> <td>   -0.458</td>\n",
       "</tr>\n",
       "<tr>\n",
       "  <th>ar.L2.D2.BMS</th> <td>   -0.0258</td> <td>    0.089</td> <td>   -0.290</td> <td> 0.772</td> <td>   -0.201</td> <td>    0.149</td>\n",
       "</tr>\n",
       "<tr>\n",
       "  <th>ar.L3.D2.BMS</th> <td>   -0.1364</td> <td>    0.070</td> <td>   -1.950</td> <td> 0.053</td> <td>   -0.273</td> <td>    0.001</td>\n",
       "</tr>\n",
       "<tr>\n",
       "  <th>ma.L1.D2.BMS</th> <td>   -0.1420</td> <td>    0.157</td> <td>   -0.903</td> <td> 0.368</td> <td>   -0.450</td> <td>    0.166</td>\n",
       "</tr>\n",
       "<tr>\n",
       "  <th>ma.L2.D2.BMS</th> <td>   -0.8560</td> <td>    0.158</td> <td>   -5.420</td> <td> 0.000</td> <td>   -1.166</td> <td>   -0.546</td>\n",
       "</tr>\n",
       "</table>\n",
       "<table class=\"simpletable\">\n",
       "<caption>Roots</caption>\n",
       "<tr>\n",
       "    <td></td>   <th>            Real</th>  <th>         Imaginary</th> <th>         Modulus</th>  <th>        Frequency</th>\n",
       "</tr>\n",
       "<tr>\n",
       "  <th>AR.1</th> <td>          -1.0779</td> <td>          -0.0000j</td> <td>           1.0779</td> <td>          -0.5000</td>\n",
       "</tr>\n",
       "<tr>\n",
       "  <th>AR.2</th> <td>           0.4443</td> <td>          -2.5698j</td> <td>           2.6080</td> <td>          -0.2228</td>\n",
       "</tr>\n",
       "<tr>\n",
       "  <th>AR.3</th> <td>           0.4443</td> <td>          +2.5698j</td> <td>           2.6080</td> <td>           0.2228</td>\n",
       "</tr>\n",
       "<tr>\n",
       "  <th>MA.1</th> <td>           1.0011</td> <td>          +0.0000j</td> <td>           1.0011</td> <td>           0.0000</td>\n",
       "</tr>\n",
       "<tr>\n",
       "  <th>MA.2</th> <td>          -1.1670</td> <td>          +0.0000j</td> <td>           1.1670</td> <td>           0.5000</td>\n",
       "</tr>\n",
       "</table>"
      ],
      "text/plain": [
       "<class 'statsmodels.iolib.summary.Summary'>\n",
       "\"\"\"\n",
       "                             ARIMA Model Results                              \n",
       "==============================================================================\n",
       "Dep. Variable:                 D2.BMS   No. Observations:                  210\n",
       "Model:                 ARIMA(3, 2, 2)   Log Likelihood                 837.013\n",
       "Method:                       css-mle   S.D. of innovations              0.004\n",
       "Date:                Thu, 12 Mar 2020   AIC                          -1660.026\n",
       "Time:                        16:34:23   BIC                          -1636.596\n",
       "Sample:                             2   HQIC                         -1650.554\n",
       "                                                                              \n",
       "================================================================================\n",
       "                   coef    std err          z      P>|z|      [0.025      0.975]\n",
       "--------------------------------------------------------------------------------\n",
       "const        -2.301e-06   4.78e-06     -0.482      0.631   -1.17e-05    7.07e-06\n",
       "ar.L1.D2.BMS    -0.7970      0.173     -4.608      0.000      -1.136      -0.458\n",
       "ar.L2.D2.BMS    -0.0258      0.089     -0.290      0.772      -0.201       0.149\n",
       "ar.L3.D2.BMS    -0.1364      0.070     -1.950      0.053      -0.273       0.001\n",
       "ma.L1.D2.BMS    -0.1420      0.157     -0.903      0.368      -0.450       0.166\n",
       "ma.L2.D2.BMS    -0.8560      0.158     -5.420      0.000      -1.166      -0.546\n",
       "                                    Roots                                    \n",
       "=============================================================================\n",
       "                  Real          Imaginary           Modulus         Frequency\n",
       "-----------------------------------------------------------------------------\n",
       "AR.1           -1.0779           -0.0000j            1.0779           -0.5000\n",
       "AR.2            0.4443           -2.5698j            2.6080           -0.2228\n",
       "AR.3            0.4443           +2.5698j            2.6080            0.2228\n",
       "MA.1            1.0011           +0.0000j            1.0011            0.0000\n",
       "MA.2           -1.1670           +0.0000j            1.1670            0.5000\n",
       "-----------------------------------------------------------------------------\n",
       "\"\"\""
      ]
     },
     "execution_count": 93,
     "metadata": {},
     "output_type": "execute_result"
    }
   ],
   "source": [
    "model = ARIMA(df['BMS'].dropna(),order=(3,2,2))\n",
    "result = model.fit()\n",
    "result.summary()"
   ]
  },
  {
   "cell_type": "code",
   "execution_count": 107,
   "metadata": {},
   "outputs": [
    {
     "data": {
      "text/html": [
       "<table class=\"simpletable\">\n",
       "<caption>ARIMA Model Results</caption>\n",
       "<tr>\n",
       "  <th>Dep. Variable:</th>      <td>D2.BMS</td>      <th>  No. Observations:  </th>    <td>210</td>   \n",
       "</tr>\n",
       "<tr>\n",
       "  <th>Model:</th>          <td>ARIMA(1, 2, 1)</td>  <th>  Log Likelihood     </th>  <td>832.916</td> \n",
       "</tr>\n",
       "<tr>\n",
       "  <th>Method:</th>             <td>css-mle</td>     <th>  S.D. of innovations</th>   <td>0.005</td>  \n",
       "</tr>\n",
       "<tr>\n",
       "  <th>Date:</th>          <td>Thu, 12 Mar 2020</td> <th>  AIC                </th> <td>-1657.831</td>\n",
       "</tr>\n",
       "<tr>\n",
       "  <th>Time:</th>              <td>16:39:28</td>     <th>  BIC                </th> <td>-1644.443</td>\n",
       "</tr>\n",
       "<tr>\n",
       "  <th>Sample:</th>                <td>2</td>        <th>  HQIC               </th> <td>-1652.419</td>\n",
       "</tr>\n",
       "<tr>\n",
       "  <th></th>                       <td> </td>        <th>                     </th>     <td> </td>    \n",
       "</tr>\n",
       "</table>\n",
       "<table class=\"simpletable\">\n",
       "<tr>\n",
       "        <td></td>          <th>coef</th>     <th>std err</th>      <th>z</th>      <th>P>|z|</th>  <th>[0.025</th>    <th>0.975]</th>  \n",
       "</tr>\n",
       "<tr>\n",
       "  <th>const</th>        <td>-2.125e-06</td> <td> 5.22e-06</td> <td>   -0.407</td> <td> 0.684</td> <td>-1.24e-05</td> <td> 8.11e-06</td>\n",
       "</tr>\n",
       "<tr>\n",
       "  <th>ar.L1.D2.BMS</th> <td>    0.0202</td> <td>    0.069</td> <td>    0.291</td> <td> 0.772</td> <td>   -0.116</td> <td>    0.156</td>\n",
       "</tr>\n",
       "<tr>\n",
       "  <th>ma.L1.D2.BMS</th> <td>   -1.0000</td> <td>    0.018</td> <td>  -54.161</td> <td> 0.000</td> <td>   -1.036</td> <td>   -0.964</td>\n",
       "</tr>\n",
       "</table>\n",
       "<table class=\"simpletable\">\n",
       "<caption>Roots</caption>\n",
       "<tr>\n",
       "    <td></td>   <th>            Real</th>  <th>         Imaginary</th> <th>         Modulus</th>  <th>        Frequency</th>\n",
       "</tr>\n",
       "<tr>\n",
       "  <th>AR.1</th> <td>          49.5333</td> <td>          +0.0000j</td> <td>          49.5333</td> <td>           0.0000</td>\n",
       "</tr>\n",
       "<tr>\n",
       "  <th>MA.1</th> <td>           1.0000</td> <td>          +0.0000j</td> <td>           1.0000</td> <td>           0.0000</td>\n",
       "</tr>\n",
       "</table>"
      ],
      "text/plain": [
       "<class 'statsmodels.iolib.summary.Summary'>\n",
       "\"\"\"\n",
       "                             ARIMA Model Results                              \n",
       "==============================================================================\n",
       "Dep. Variable:                 D2.BMS   No. Observations:                  210\n",
       "Model:                 ARIMA(1, 2, 1)   Log Likelihood                 832.916\n",
       "Method:                       css-mle   S.D. of innovations              0.005\n",
       "Date:                Thu, 12 Mar 2020   AIC                          -1657.831\n",
       "Time:                        16:39:28   BIC                          -1644.443\n",
       "Sample:                             2   HQIC                         -1652.419\n",
       "                                                                              \n",
       "================================================================================\n",
       "                   coef    std err          z      P>|z|      [0.025      0.975]\n",
       "--------------------------------------------------------------------------------\n",
       "const        -2.125e-06   5.22e-06     -0.407      0.684   -1.24e-05    8.11e-06\n",
       "ar.L1.D2.BMS     0.0202      0.069      0.291      0.772      -0.116       0.156\n",
       "ma.L1.D2.BMS    -1.0000      0.018    -54.161      0.000      -1.036      -0.964\n",
       "                                    Roots                                    \n",
       "=============================================================================\n",
       "                  Real          Imaginary           Modulus         Frequency\n",
       "-----------------------------------------------------------------------------\n",
       "AR.1           49.5333           +0.0000j           49.5333            0.0000\n",
       "MA.1            1.0000           +0.0000j            1.0000            0.0000\n",
       "-----------------------------------------------------------------------------\n",
       "\"\"\""
      ]
     },
     "execution_count": 107,
     "metadata": {},
     "output_type": "execute_result"
    }
   ],
   "source": [
    "model = ARIMA(df['BMS'],order=(1,2,1))\n",
    "result = model.fit()\n",
    "result.summary()"
   ]
  },
  {
   "cell_type": "code",
   "execution_count": null,
   "metadata": {},
   "outputs": [],
   "source": []
  }
 ],
 "metadata": {
  "kernelspec": {
   "display_name": "Python 3",
   "language": "python",
   "name": "python3"
  },
  "language_info": {
   "codemirror_mode": {
    "name": "ipython",
    "version": 3
   },
   "file_extension": ".py",
   "mimetype": "text/x-python",
   "name": "python",
   "nbconvert_exporter": "python",
   "pygments_lexer": "ipython3",
   "version": "3.6.5"
  }
 },
 "nbformat": 4,
 "nbformat_minor": 2
}
