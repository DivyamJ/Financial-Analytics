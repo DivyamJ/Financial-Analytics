{
 "cells": [
  {
   "cell_type": "markdown",
   "metadata": {},
   "source": [
    "## ARIMA Modelling"
   ]
  },
  {
   "cell_type": "code",
   "execution_count": 28,
   "metadata": {},
   "outputs": [],
   "source": [
    "import pandas as pd\n",
    "import numpy as np\n",
    "import matplotlib.pyplot as plt\n",
    "%matplotlib inline"
   ]
  },
  {
   "cell_type": "code",
   "execution_count": 29,
   "metadata": {},
   "outputs": [],
   "source": [
    "#Importing the dataset\n",
    "df = pd.read_excel(\"Lecture 1_Data.xlsx\")"
   ]
  },
  {
   "cell_type": "code",
   "execution_count": 30,
   "metadata": {},
   "outputs": [
    {
     "data": {
      "text/html": [
       "<div>\n",
       "<style scoped>\n",
       "    .dataframe tbody tr th:only-of-type {\n",
       "        vertical-align: middle;\n",
       "    }\n",
       "\n",
       "    .dataframe tbody tr th {\n",
       "        vertical-align: top;\n",
       "    }\n",
       "\n",
       "    .dataframe thead th {\n",
       "        text-align: right;\n",
       "    }\n",
       "</style>\n",
       "<table border=\"1\" class=\"dataframe\">\n",
       "  <thead>\n",
       "    <tr style=\"text-align: right;\">\n",
       "      <th></th>\n",
       "      <th>Year</th>\n",
       "      <th>Quarter</th>\n",
       "      <th>INDI 25</th>\n",
       "      <th>GDP</th>\n",
       "      <th>CPI</th>\n",
       "      <th>Prime Rate</th>\n",
       "      <th>USD/ZAR</th>\n",
       "      <th>ERV</th>\n",
       "    </tr>\n",
       "  </thead>\n",
       "  <tbody>\n",
       "    <tr>\n",
       "      <th>73</th>\n",
       "      <td>2014</td>\n",
       "      <td>q2</td>\n",
       "      <td>60511.38</td>\n",
       "      <td>0.7</td>\n",
       "      <td>6.8</td>\n",
       "      <td>9.00</td>\n",
       "      <td>10.61</td>\n",
       "      <td>0.005774</td>\n",
       "    </tr>\n",
       "    <tr>\n",
       "      <th>74</th>\n",
       "      <td>2014</td>\n",
       "      <td>q3</td>\n",
       "      <td>58031.73</td>\n",
       "      <td>2.2</td>\n",
       "      <td>5.9</td>\n",
       "      <td>9.25</td>\n",
       "      <td>11.24</td>\n",
       "      <td>0.363731</td>\n",
       "    </tr>\n",
       "    <tr>\n",
       "      <th>75</th>\n",
       "      <td>2014</td>\n",
       "      <td>q4</td>\n",
       "      <td>61988.54</td>\n",
       "      <td>4.1</td>\n",
       "      <td>5.3</td>\n",
       "      <td>9.25</td>\n",
       "      <td>11.57</td>\n",
       "      <td>0.190526</td>\n",
       "    </tr>\n",
       "    <tr>\n",
       "      <th>76</th>\n",
       "      <td>2015</td>\n",
       "      <td>q1</td>\n",
       "      <td>65630.61</td>\n",
       "      <td>1.9</td>\n",
       "      <td>4.0</td>\n",
       "      <td>9.25</td>\n",
       "      <td>12.20</td>\n",
       "      <td>0.363731</td>\n",
       "    </tr>\n",
       "    <tr>\n",
       "      <th>77</th>\n",
       "      <td>2015</td>\n",
       "      <td>q2</td>\n",
       "      <td>66752.83</td>\n",
       "      <td>-1.8</td>\n",
       "      <td>4.6</td>\n",
       "      <td>9.25</td>\n",
       "      <td>12.24</td>\n",
       "      <td>0.023094</td>\n",
       "    </tr>\n",
       "  </tbody>\n",
       "</table>\n",
       "</div>"
      ],
      "text/plain": [
       "    Year  Quarter   INDI 25  GDP  CPI  Prime Rate  USD/ZAR       ERV\n",
       "73  2014       q2  60511.38  0.7  6.8        9.00    10.61  0.005774\n",
       "74  2014       q3  58031.73  2.2  5.9        9.25    11.24  0.363731\n",
       "75  2014       q4  61988.54  4.1  5.3        9.25    11.57  0.190526\n",
       "76  2015       q1  65630.61  1.9  4.0        9.25    12.20  0.363731\n",
       "77  2015       q2  66752.83 -1.8  4.6        9.25    12.24  0.023094"
      ]
     },
     "execution_count": 30,
     "metadata": {},
     "output_type": "execute_result"
    }
   ],
   "source": [
    "df.head()\n",
    "df.tail()"
   ]
  },
  {
   "cell_type": "code",
   "execution_count": 31,
   "metadata": {},
   "outputs": [
    {
     "data": {
      "text/html": [
       "<div>\n",
       "<style scoped>\n",
       "    .dataframe tbody tr th:only-of-type {\n",
       "        vertical-align: middle;\n",
       "    }\n",
       "\n",
       "    .dataframe tbody tr th {\n",
       "        vertical-align: top;\n",
       "    }\n",
       "\n",
       "    .dataframe thead th {\n",
       "        text-align: right;\n",
       "    }\n",
       "</style>\n",
       "<table border=\"1\" class=\"dataframe\">\n",
       "  <thead>\n",
       "    <tr style=\"text-align: right;\">\n",
       "      <th></th>\n",
       "      <th>Year</th>\n",
       "      <th>INDI 25</th>\n",
       "      <th>GDP</th>\n",
       "      <th>CPI</th>\n",
       "      <th>Prime Rate</th>\n",
       "      <th>USD/ZAR</th>\n",
       "      <th>ERV</th>\n",
       "    </tr>\n",
       "  </thead>\n",
       "  <tbody>\n",
       "    <tr>\n",
       "      <th>count</th>\n",
       "      <td>78.00000</td>\n",
       "      <td>78.000000</td>\n",
       "      <td>78.000000</td>\n",
       "      <td>78.000000</td>\n",
       "      <td>78.000000</td>\n",
       "      <td>78.000000</td>\n",
       "      <td>78.000000</td>\n",
       "    </tr>\n",
       "    <tr>\n",
       "      <th>mean</th>\n",
       "      <td>2005.25641</td>\n",
       "      <td>19225.369872</td>\n",
       "      <td>3.058974</td>\n",
       "      <td>5.937179</td>\n",
       "      <td>13.391026</td>\n",
       "      <td>7.578974</td>\n",
       "      <td>0.263583</td>\n",
       "    </tr>\n",
       "    <tr>\n",
       "      <th>std</th>\n",
       "      <td>5.66932</td>\n",
       "      <td>16608.617658</td>\n",
       "      <td>2.410822</td>\n",
       "      <td>2.571528</td>\n",
       "      <td>4.172924</td>\n",
       "      <td>1.994639</td>\n",
       "      <td>0.289307</td>\n",
       "    </tr>\n",
       "    <tr>\n",
       "      <th>min</th>\n",
       "      <td>1996.00000</td>\n",
       "      <td>4619.480000</td>\n",
       "      <td>-6.300000</td>\n",
       "      <td>0.400000</td>\n",
       "      <td>8.500000</td>\n",
       "      <td>3.960000</td>\n",
       "      <td>0.000000</td>\n",
       "    </tr>\n",
       "    <tr>\n",
       "      <th>25%</th>\n",
       "      <td>2000.25000</td>\n",
       "      <td>7383.935000</td>\n",
       "      <td>1.900000</td>\n",
       "      <td>4.375000</td>\n",
       "      <td>10.000000</td>\n",
       "      <td>6.282500</td>\n",
       "      <td>0.093819</td>\n",
       "    </tr>\n",
       "    <tr>\n",
       "      <th>50%</th>\n",
       "      <td>2005.00000</td>\n",
       "      <td>12640.945000</td>\n",
       "      <td>3.150000</td>\n",
       "      <td>5.800000</td>\n",
       "      <td>12.500000</td>\n",
       "      <td>7.275000</td>\n",
       "      <td>0.178979</td>\n",
       "    </tr>\n",
       "    <tr>\n",
       "      <th>75%</th>\n",
       "      <td>2010.00000</td>\n",
       "      <td>24340.080000</td>\n",
       "      <td>4.575000</td>\n",
       "      <td>7.300000</td>\n",
       "      <td>15.500000</td>\n",
       "      <td>8.372500</td>\n",
       "      <td>0.346410</td>\n",
       "    </tr>\n",
       "    <tr>\n",
       "      <th>max</th>\n",
       "      <td>2015.00000</td>\n",
       "      <td>66752.830000</td>\n",
       "      <td>7.600000</td>\n",
       "      <td>12.900000</td>\n",
       "      <td>25.500000</td>\n",
       "      <td>12.240000</td>\n",
       "      <td>1.818653</td>\n",
       "    </tr>\n",
       "  </tbody>\n",
       "</table>\n",
       "</div>"
      ],
      "text/plain": [
       "             Year       INDI 25        GDP        CPI  Prime Rate    USD/ZAR  \\\n",
       "count    78.00000     78.000000  78.000000  78.000000   78.000000  78.000000   \n",
       "mean   2005.25641  19225.369872   3.058974   5.937179   13.391026   7.578974   \n",
       "std       5.66932  16608.617658   2.410822   2.571528    4.172924   1.994639   \n",
       "min    1996.00000   4619.480000  -6.300000   0.400000    8.500000   3.960000   \n",
       "25%    2000.25000   7383.935000   1.900000   4.375000   10.000000   6.282500   \n",
       "50%    2005.00000  12640.945000   3.150000   5.800000   12.500000   7.275000   \n",
       "75%    2010.00000  24340.080000   4.575000   7.300000   15.500000   8.372500   \n",
       "max    2015.00000  66752.830000   7.600000  12.900000   25.500000  12.240000   \n",
       "\n",
       "             ERV  \n",
       "count  78.000000  \n",
       "mean    0.263583  \n",
       "std     0.289307  \n",
       "min     0.000000  \n",
       "25%     0.093819  \n",
       "50%     0.178979  \n",
       "75%     0.346410  \n",
       "max     1.818653  "
      ]
     },
     "execution_count": 31,
     "metadata": {},
     "output_type": "execute_result"
    }
   ],
   "source": [
    "df.describe()"
   ]
  },
  {
   "cell_type": "code",
   "execution_count": 32,
   "metadata": {},
   "outputs": [
    {
     "data": {
      "text/plain": [
       "Index(['Year', ' Quarter', 'INDI 25', 'GDP', 'CPI', 'Prime Rate', 'USD/ZAR',\n",
       "       'ERV'],\n",
       "      dtype='object')"
      ]
     },
     "execution_count": 32,
     "metadata": {},
     "output_type": "execute_result"
    }
   ],
   "source": [
    "df.columns"
   ]
  },
  {
   "cell_type": "code",
   "execution_count": 34,
   "metadata": {},
   "outputs": [
    {
     "data": {
      "text/plain": [
       "<matplotlib.axes._subplots.AxesSubplot at 0x22bee86e0f0>"
      ]
     },
     "execution_count": 34,
     "metadata": {},
     "output_type": "execute_result"
    },
    {
     "data": {
      "image/png": "[encoded data removed]",
      "text/plain": [
       "<Figure size 432x288 with 1 Axes>"
      ]
     },
     "metadata": {},
     "output_type": "display_data"
    }
   ],
   "source": [
    "df['INDI 25'].plot()"
   ]
  },
  {
   "cell_type": "code",
   "execution_count": 35,
   "metadata": {},
   "outputs": [],
   "source": [
    "from statsmodels.tsa.stattools import adfuller"
   ]
  },
  {
   "cell_type": "code",
   "execution_count": 37,
   "metadata": {},
   "outputs": [
    {
     "data": {
      "text/plain": [
       "(4.644517862334556,\n",
       " 1.0,\n",
       " 0,\n",
       " 77,\n",
       " {'1%': -3.518281134660583,\n",
       "  '5%': -2.899878185191432,\n",
       "  '10%': -2.5872229937594873},\n",
       " 1145.8845626648933)"
      ]
     },
     "execution_count": 37,
     "metadata": {},
     "output_type": "execute_result"
    }
   ],
   "source": [
    "result = adfuller(df['INDI 25'])\n",
    "result"
   ]
  },
  {
   "cell_type": "code",
   "execution_count": 40,
   "metadata": {},
   "outputs": [
    {
     "data": {
      "text/plain": [
       "(-4.083655252843518,\n",
       " 0.001030560472386977,\n",
       " 0,\n",
       " 77,\n",
       " {'1%': -3.518281134660583,\n",
       "  '5%': -2.899878185191432,\n",
       "  '10%': -2.5872229937594873},\n",
       " 272.4403320599697)"
      ]
     },
     "execution_count": 40,
     "metadata": {},
     "output_type": "execute_result"
    }
   ],
   "source": [
    "result = adfuller(df['GDP'])\n",
    "result"
   ]
  },
  {
   "cell_type": "code",
   "execution_count": 42,
   "metadata": {},
   "outputs": [],
   "source": [
    "df['INDI 25 First Difference'] = df['INDI 25'] - df['INDI 25'].shift(1)"
   ]
  },
  {
   "cell_type": "code",
   "execution_count": 43,
   "metadata": {},
   "outputs": [
    {
     "data": {
      "text/plain": [
       "<matplotlib.axes._subplots.AxesSubplot at 0x22bf0f74f98>"
      ]
     },
     "execution_count": 43,
     "metadata": {},
     "output_type": "execute_result"
    },
    {
     "data": {
      "image/png": "[encoded data removed]",
      "text/plain": [
       "<Figure size 432x288 with 1 Axes>"
      ]
     },
     "metadata": {},
     "output_type": "display_data"
    }
   ],
   "source": [
    "df['INDI 25 First Difference'].plot()"
   ]
  },
  {
   "cell_type": "code",
   "execution_count": null,
   "metadata": {},
   "outputs": [],
   "source": []
  }
 ],
 "metadata": {
  "kernelspec": {
   "display_name": "Python 3",
   "language": "python",
   "name": "python3"
  },
  "language_info": {
   "codemirror_mode": {
    "name": "ipython",
    "version": 3
   },
   "file_extension": ".py",
   "mimetype": "text/x-python",
   "name": "python",
   "nbconvert_exporter": "python",
   "pygments_lexer": "ipython3",
   "version": "3.6.5"
  }
 },
 "nbformat": 4,
 "nbformat_minor": 2
}
